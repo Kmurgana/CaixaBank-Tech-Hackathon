{
 "cells": [
  {
   "cell_type": "markdown",
   "id": "52924f90",
   "metadata": {},
   "source": [
    "# **<span style=\"color:#0D47A1;\">CAIXABANK HACKATHON - by Kevin Murgana </span>**\n",
    "<img src=\"https://raw.githubusercontent.com/Kmurgana/Resources-Random/main/Images/CAIXABANK.jpg\">"
   ]
  },
  {
   "cell_type": "markdown",
   "id": "e0b35a3d",
   "metadata": {},
   "source": [
    "# **<span style=\"color:#0D47A1;\">Objetivos</span>**"
   ]
  },
  {
   "cell_type": "markdown",
   "id": "a69c7540",
   "metadata": {},
   "source": [
    "* 1. Desarrolla un modelo predictivo que permita predecir la variable target (si el precio de cierre del IBEX35 será superior o inferior al precio de cierre actual).\n",
    "\n",
    "Para ello deberas entrenar tu modelo con los datos de training (si también se usan los tweets se sumaran 100 puntos) e introducir como input de tu modelo el dataset test_x para realizar las predicciones.\n",
    "\n",
    "* Crea un breve documento (máx. 2 páginas) o presentación (máx. 4 slides) explicando la solución que has empleado y porque la has empleado."
   ]
  },
  {
   "cell_type": "markdown",
   "id": "b957a9e5",
   "metadata": {},
   "source": [
    "**Roadmap**\n",
    "\n",
    "Antes de lanzarnos de lleno a la programación, deberíamos trazar una breve guía para mantenernos en el camino. Los siguientes pasos constituyen la base de cualquier flujo de trabajo de aprendizaje automático una vez que tenemos un problema y un modelo en mente:\n",
    "\n",
    "* 1) Plantear la pregunta y determinar los datos necesarios\n",
    "* 2) Adquirir los datos en un formato accesible\n",
    "* 3) Identificar y corregir los puntos de datos/anomalías que faltan, según sea necesario\n",
    "* 4) Preparar los datos para el modelo de aprendizaje automático\n",
    "* 5) Entrenar el modelo con los datos de entrenamiento\n",
    "* 6) Hacer predicciones con los datos de prueba\n",
    "* 7) Comparar las predicciones con los objetivos conocidos del conjunto de pruebas y calcular las métricas de rendimiento\n",
    "* 8) Si el rendimiento no es satisfactorio, ajustar el modelo, adquiera más datos o pruebe otra técnica de modelización.\n",
    "* 9) Interpretar el modelo y comunicar los resultados de forma visual y numérica"
   ]
  },
  {
   "cell_type": "markdown",
   "id": "67b89320",
   "metadata": {},
   "source": [
    "### ✅1) Planteando la pregunta ❓\n",
    "\n",
    "El resultado del algoritmo deberá ser binario, si el precio está por encima o por debajo del precio actual, 50% y 50%, por lo que dividiremos el dataset en train y test y haremos las pruebas con el mismo dataset como referencia, mientras más elevado el **R2**, mejor será nuestra predicción.\n"
   ]
  },
  {
   "cell_type": "markdown",
   "id": "0a27ccd6",
   "metadata": {},
   "source": [
    "### ✅ 2) Adquiriendo los datos 🔍"
   ]
  },
  {
   "cell_type": "markdown",
   "id": "687d5b66",
   "metadata": {},
   "source": [
    "#### Importamos las librerías necesarias para comenzar."
   ]
  },
  {
   "cell_type": "code",
   "execution_count": 1,
   "id": "074bda61",
   "metadata": {},
   "outputs": [],
   "source": [
    "import numpy as np\n",
    "import pandas as pd\n",
    "import matplotlib.pyplot as plt\n",
    "from keras.models import Sequential\n",
    "from keras.layers import Dense, LSTM\n",
    "import math\n",
    "from sklearn.preprocessing import MinMaxScaler"
   ]
  },
  {
   "cell_type": "markdown",
   "id": "97c9b150",
   "metadata": {},
   "source": [
    "### 2.1 Leyendo datos desde CSV"
   ]
  },
  {
   "cell_type": "markdown",
   "id": "445cd4b7",
   "metadata": {},
   "source": [
    "#### 2.1.1 Leyendo primer dato CSV (train.csv)"
   ]
  },
  {
   "cell_type": "code",
   "execution_count": 2,
   "id": "3c7156f6",
   "metadata": {},
   "outputs": [],
   "source": [
    "#1. Con pandas, importamos el dataset 1\n",
    "train1_df = pd.read_csv(\"train.csv\", sep=',')"
   ]
  },
  {
   "cell_type": "code",
   "execution_count": 3,
   "id": "d223826c",
   "metadata": {
    "scrolled": true
   },
   "outputs": [
    {
     "data": {
      "text/html": [
       "<div>\n",
       "<style scoped>\n",
       "    .dataframe tbody tr th:only-of-type {\n",
       "        vertical-align: middle;\n",
       "    }\n",
       "\n",
       "    .dataframe tbody tr th {\n",
       "        vertical-align: top;\n",
       "    }\n",
       "\n",
       "    .dataframe thead th {\n",
       "        text-align: right;\n",
       "    }\n",
       "</style>\n",
       "<table border=\"1\" class=\"dataframe\">\n",
       "  <thead>\n",
       "    <tr style=\"text-align: right;\">\n",
       "      <th></th>\n",
       "      <th>Date</th>\n",
       "      <th>Open</th>\n",
       "      <th>High</th>\n",
       "      <th>Low</th>\n",
       "      <th>Close</th>\n",
       "      <th>Adj Close</th>\n",
       "      <th>Volume</th>\n",
       "      <th>Target</th>\n",
       "    </tr>\n",
       "  </thead>\n",
       "  <tbody>\n",
       "    <tr>\n",
       "      <th>0</th>\n",
       "      <td>1994-01-03</td>\n",
       "      <td>3615.199951</td>\n",
       "      <td>3654.699951</td>\n",
       "      <td>3581.000000</td>\n",
       "      <td>3654.500000</td>\n",
       "      <td>3654.496338</td>\n",
       "      <td>0.0</td>\n",
       "      <td>0</td>\n",
       "    </tr>\n",
       "    <tr>\n",
       "      <th>1</th>\n",
       "      <td>1994-01-04</td>\n",
       "      <td>3654.500000</td>\n",
       "      <td>3675.500000</td>\n",
       "      <td>3625.100098</td>\n",
       "      <td>3630.300049</td>\n",
       "      <td>3630.296387</td>\n",
       "      <td>0.0</td>\n",
       "      <td>1</td>\n",
       "    </tr>\n",
       "    <tr>\n",
       "      <th>2</th>\n",
       "      <td>1994-01-05</td>\n",
       "      <td>3625.199951</td>\n",
       "      <td>3625.199951</td>\n",
       "      <td>3583.399902</td>\n",
       "      <td>3621.199951</td>\n",
       "      <td>3621.196289</td>\n",
       "      <td>0.0</td>\n",
       "      <td>1</td>\n",
       "    </tr>\n",
       "    <tr>\n",
       "      <th>3</th>\n",
       "      <td>1994-01-06</td>\n",
       "      <td>NaN</td>\n",
       "      <td>NaN</td>\n",
       "      <td>NaN</td>\n",
       "      <td>NaN</td>\n",
       "      <td>NaN</td>\n",
       "      <td>NaN</td>\n",
       "      <td>0</td>\n",
       "    </tr>\n",
       "    <tr>\n",
       "      <th>4</th>\n",
       "      <td>1994-01-07</td>\n",
       "      <td>3621.199951</td>\n",
       "      <td>3644.399902</td>\n",
       "      <td>3598.699951</td>\n",
       "      <td>3636.399902</td>\n",
       "      <td>3636.396240</td>\n",
       "      <td>0.0</td>\n",
       "      <td>1</td>\n",
       "    </tr>\n",
       "  </tbody>\n",
       "</table>\n",
       "</div>"
      ],
      "text/plain": [
       "         Date         Open         High          Low        Close  \\\n",
       "0  1994-01-03  3615.199951  3654.699951  3581.000000  3654.500000   \n",
       "1  1994-01-04  3654.500000  3675.500000  3625.100098  3630.300049   \n",
       "2  1994-01-05  3625.199951  3625.199951  3583.399902  3621.199951   \n",
       "3  1994-01-06          NaN          NaN          NaN          NaN   \n",
       "4  1994-01-07  3621.199951  3644.399902  3598.699951  3636.399902   \n",
       "\n",
       "     Adj Close  Volume  Target  \n",
       "0  3654.496338     0.0       0  \n",
       "1  3630.296387     0.0       1  \n",
       "2  3621.196289     0.0       1  \n",
       "3          NaN     NaN       0  \n",
       "4  3636.396240     0.0       1  "
      ]
     },
     "execution_count": 3,
     "metadata": {},
     "output_type": "execute_result"
    }
   ],
   "source": [
    "#2.Observamos encabezado\n",
    "train1_df.head()"
   ]
  },
  {
   "cell_type": "code",
   "execution_count": 4,
   "id": "42f30e0e",
   "metadata": {},
   "outputs": [
    {
     "data": {
      "text/html": [
       "<div>\n",
       "<style scoped>\n",
       "    .dataframe tbody tr th:only-of-type {\n",
       "        vertical-align: middle;\n",
       "    }\n",
       "\n",
       "    .dataframe tbody tr th {\n",
       "        vertical-align: top;\n",
       "    }\n",
       "\n",
       "    .dataframe thead th {\n",
       "        text-align: right;\n",
       "    }\n",
       "</style>\n",
       "<table border=\"1\" class=\"dataframe\">\n",
       "  <thead>\n",
       "    <tr style=\"text-align: right;\">\n",
       "      <th></th>\n",
       "      <th>Date</th>\n",
       "      <th>Open</th>\n",
       "      <th>High</th>\n",
       "      <th>Low</th>\n",
       "      <th>Close</th>\n",
       "      <th>Adj Close</th>\n",
       "      <th>Volume</th>\n",
       "      <th>Target</th>\n",
       "    </tr>\n",
       "  </thead>\n",
       "  <tbody>\n",
       "    <tr>\n",
       "      <th>6549</th>\n",
       "      <td>2019-05-24</td>\n",
       "      <td>9150.299805</td>\n",
       "      <td>9211.099609</td>\n",
       "      <td>9141.400391</td>\n",
       "      <td>9174.599609</td>\n",
       "      <td>9174.599609</td>\n",
       "      <td>121673100.0</td>\n",
       "      <td>0</td>\n",
       "    </tr>\n",
       "    <tr>\n",
       "      <th>6550</th>\n",
       "      <td>2019-05-27</td>\n",
       "      <td>9225.900391</td>\n",
       "      <td>9294.599609</td>\n",
       "      <td>9204.700195</td>\n",
       "      <td>9216.400391</td>\n",
       "      <td>9216.400391</td>\n",
       "      <td>60178000.0</td>\n",
       "      <td>0</td>\n",
       "    </tr>\n",
       "    <tr>\n",
       "      <th>6551</th>\n",
       "      <td>2019-05-28</td>\n",
       "      <td>9220.400391</td>\n",
       "      <td>9224.900391</td>\n",
       "      <td>9132.900391</td>\n",
       "      <td>9191.799805</td>\n",
       "      <td>9191.799805</td>\n",
       "      <td>218900800.0</td>\n",
       "      <td>0</td>\n",
       "    </tr>\n",
       "    <tr>\n",
       "      <th>6552</th>\n",
       "      <td>2019-05-29</td>\n",
       "      <td>9113.200195</td>\n",
       "      <td>9116.700195</td>\n",
       "      <td>9035.099609</td>\n",
       "      <td>9080.500000</td>\n",
       "      <td>9080.500000</td>\n",
       "      <td>148987100.0</td>\n",
       "      <td>0</td>\n",
       "    </tr>\n",
       "    <tr>\n",
       "      <th>6553</th>\n",
       "      <td>2019-05-30</td>\n",
       "      <td>9120.799805</td>\n",
       "      <td>9175.200195</td>\n",
       "      <td>9114.099609</td>\n",
       "      <td>9157.799805</td>\n",
       "      <td>9157.799805</td>\n",
       "      <td>101389200.0</td>\n",
       "      <td>0</td>\n",
       "    </tr>\n",
       "  </tbody>\n",
       "</table>\n",
       "</div>"
      ],
      "text/plain": [
       "            Date         Open         High          Low        Close  \\\n",
       "6549  2019-05-24  9150.299805  9211.099609  9141.400391  9174.599609   \n",
       "6550  2019-05-27  9225.900391  9294.599609  9204.700195  9216.400391   \n",
       "6551  2019-05-28  9220.400391  9224.900391  9132.900391  9191.799805   \n",
       "6552  2019-05-29  9113.200195  9116.700195  9035.099609  9080.500000   \n",
       "6553  2019-05-30  9120.799805  9175.200195  9114.099609  9157.799805   \n",
       "\n",
       "        Adj Close       Volume  Target  \n",
       "6549  9174.599609  121673100.0       0  \n",
       "6550  9216.400391   60178000.0       0  \n",
       "6551  9191.799805  218900800.0       0  \n",
       "6552  9080.500000  148987100.0       0  \n",
       "6553  9157.799805  101389200.0       0  "
      ]
     },
     "execution_count": 4,
     "metadata": {},
     "output_type": "execute_result"
    }
   ],
   "source": [
    "#3.Observamos final del dataset\n",
    "train1_df.tail()"
   ]
  },
  {
   "cell_type": "code",
   "execution_count": 5,
   "id": "ecd1fb9a",
   "metadata": {},
   "outputs": [
    {
     "name": "stdout",
     "output_type": "stream",
     "text": [
      "<class 'pandas.core.frame.DataFrame'>\n",
      "RangeIndex: 6554 entries, 0 to 6553\n",
      "Data columns (total 8 columns):\n",
      " #   Column     Non-Null Count  Dtype  \n",
      "---  ------     --------------  -----  \n",
      " 0   Date       6554 non-null   object \n",
      " 1   Open       6421 non-null   float64\n",
      " 2   High       6421 non-null   float64\n",
      " 3   Low        6421 non-null   float64\n",
      " 4   Close      6421 non-null   float64\n",
      " 5   Adj Close  6421 non-null   float64\n",
      " 6   Volume     6421 non-null   float64\n",
      " 7   Target     6554 non-null   int64  \n",
      "dtypes: float64(6), int64(1), object(1)\n",
      "memory usage: 409.8+ KB\n"
     ]
    }
   ],
   "source": [
    "#4.Observamos la información de las variables de cada columna.\n",
    "train1_df.info()"
   ]
  },
  {
   "cell_type": "code",
   "execution_count": 6,
   "id": "a1d26a14",
   "metadata": {},
   "outputs": [
    {
     "data": {
      "text/html": [
       "<div>\n",
       "<style scoped>\n",
       "    .dataframe tbody tr th:only-of-type {\n",
       "        vertical-align: middle;\n",
       "    }\n",
       "\n",
       "    .dataframe tbody tr th {\n",
       "        vertical-align: top;\n",
       "    }\n",
       "\n",
       "    .dataframe thead th {\n",
       "        text-align: right;\n",
       "    }\n",
       "</style>\n",
       "<table border=\"1\" class=\"dataframe\">\n",
       "  <thead>\n",
       "    <tr style=\"text-align: right;\">\n",
       "      <th></th>\n",
       "      <th>Open</th>\n",
       "      <th>High</th>\n",
       "      <th>Low</th>\n",
       "      <th>Close</th>\n",
       "      <th>Adj Close</th>\n",
       "      <th>Volume</th>\n",
       "      <th>Target</th>\n",
       "    </tr>\n",
       "  </thead>\n",
       "  <tbody>\n",
       "    <tr>\n",
       "      <th>count</th>\n",
       "      <td>6421.000000</td>\n",
       "      <td>6421.000000</td>\n",
       "      <td>6421.000000</td>\n",
       "      <td>6421.000000</td>\n",
       "      <td>6421.000000</td>\n",
       "      <td>6.421000e+03</td>\n",
       "      <td>6554.000000</td>\n",
       "    </tr>\n",
       "    <tr>\n",
       "      <th>mean</th>\n",
       "      <td>8936.540448</td>\n",
       "      <td>9005.235576</td>\n",
       "      <td>8858.340567</td>\n",
       "      <td>8934.978558</td>\n",
       "      <td>8934.970624</td>\n",
       "      <td>8.218074e+07</td>\n",
       "      <td>0.516936</td>\n",
       "    </tr>\n",
       "    <tr>\n",
       "      <th>std</th>\n",
       "      <td>2732.102441</td>\n",
       "      <td>2749.009324</td>\n",
       "      <td>2712.511028</td>\n",
       "      <td>2731.032625</td>\n",
       "      <td>2731.030170</td>\n",
       "      <td>1.231845e+08</td>\n",
       "      <td>0.499751</td>\n",
       "    </tr>\n",
       "    <tr>\n",
       "      <th>min</th>\n",
       "      <td>2865.100098</td>\n",
       "      <td>2877.300049</td>\n",
       "      <td>2833.600098</td>\n",
       "      <td>2865.100098</td>\n",
       "      <td>2865.097168</td>\n",
       "      <td>0.000000e+00</td>\n",
       "      <td>0.000000</td>\n",
       "    </tr>\n",
       "    <tr>\n",
       "      <th>25%</th>\n",
       "      <td>7732.399902</td>\n",
       "      <td>7817.200195</td>\n",
       "      <td>7641.500000</td>\n",
       "      <td>7727.799805</td>\n",
       "      <td>7727.791992</td>\n",
       "      <td>0.000000e+00</td>\n",
       "      <td>0.000000</td>\n",
       "    </tr>\n",
       "    <tr>\n",
       "      <th>50%</th>\n",
       "      <td>9329.700195</td>\n",
       "      <td>9404.599609</td>\n",
       "      <td>9243.000000</td>\n",
       "      <td>9331.000000</td>\n",
       "      <td>9331.000000</td>\n",
       "      <td>1.966000e+05</td>\n",
       "      <td>1.000000</td>\n",
       "    </tr>\n",
       "    <tr>\n",
       "      <th>75%</th>\n",
       "      <td>10525.500000</td>\n",
       "      <td>10590.299805</td>\n",
       "      <td>10441.200195</td>\n",
       "      <td>10523.400391</td>\n",
       "      <td>10523.400391</td>\n",
       "      <td>1.773980e+08</td>\n",
       "      <td>1.000000</td>\n",
       "    </tr>\n",
       "    <tr>\n",
       "      <th>max</th>\n",
       "      <td>15999.200195</td>\n",
       "      <td>16040.400391</td>\n",
       "      <td>15868.599609</td>\n",
       "      <td>15945.700195</td>\n",
       "      <td>15945.683594</td>\n",
       "      <td>7.894902e+08</td>\n",
       "      <td>1.000000</td>\n",
       "    </tr>\n",
       "  </tbody>\n",
       "</table>\n",
       "</div>"
      ],
      "text/plain": [
       "               Open          High           Low         Close     Adj Close  \\\n",
       "count   6421.000000   6421.000000   6421.000000   6421.000000   6421.000000   \n",
       "mean    8936.540448   9005.235576   8858.340567   8934.978558   8934.970624   \n",
       "std     2732.102441   2749.009324   2712.511028   2731.032625   2731.030170   \n",
       "min     2865.100098   2877.300049   2833.600098   2865.100098   2865.097168   \n",
       "25%     7732.399902   7817.200195   7641.500000   7727.799805   7727.791992   \n",
       "50%     9329.700195   9404.599609   9243.000000   9331.000000   9331.000000   \n",
       "75%    10525.500000  10590.299805  10441.200195  10523.400391  10523.400391   \n",
       "max    15999.200195  16040.400391  15868.599609  15945.700195  15945.683594   \n",
       "\n",
       "             Volume       Target  \n",
       "count  6.421000e+03  6554.000000  \n",
       "mean   8.218074e+07     0.516936  \n",
       "std    1.231845e+08     0.499751  \n",
       "min    0.000000e+00     0.000000  \n",
       "25%    0.000000e+00     0.000000  \n",
       "50%    1.966000e+05     1.000000  \n",
       "75%    1.773980e+08     1.000000  \n",
       "max    7.894902e+08     1.000000  "
      ]
     },
     "execution_count": 6,
     "metadata": {},
     "output_type": "execute_result"
    }
   ],
   "source": [
    "#5.Describimos el dataset de ser posible\n",
    "train1_df.describe()"
   ]
  },
  {
   "cell_type": "code",
   "execution_count": 7,
   "id": "03f17557",
   "metadata": {},
   "outputs": [
    {
     "data": {
      "text/plain": [
       "Date           0\n",
       "Open         133\n",
       "High         133\n",
       "Low          133\n",
       "Close        133\n",
       "Adj Close    133\n",
       "Volume       133\n",
       "Target         0\n",
       "dtype: int64"
      ]
     },
     "execution_count": 7,
     "metadata": {},
     "output_type": "execute_result"
    }
   ],
   "source": [
    "#6. Sumamos todas aquellas variables nulas\n",
    "train1_df.isnull().sum()"
   ]
  },
  {
   "cell_type": "code",
   "execution_count": 8,
   "id": "70df7c89",
   "metadata": {},
   "outputs": [],
   "source": [
    "#7. Dropeando los NA para no incurrir en problemas futuros\n",
    "train1_cleaned_df = train1_df.dropna()"
   ]
  },
  {
   "cell_type": "code",
   "execution_count": 9,
   "id": "9f6b361b",
   "metadata": {
    "scrolled": true
   },
   "outputs": [
    {
     "data": {
      "text/plain": [
       "Date         0\n",
       "Open         0\n",
       "High         0\n",
       "Low          0\n",
       "Close        0\n",
       "Adj Close    0\n",
       "Volume       0\n",
       "Target       0\n",
       "dtype: int64"
      ]
     },
     "execution_count": 9,
     "metadata": {},
     "output_type": "execute_result"
    }
   ],
   "source": [
    "train1_cleaned_df.isnull().sum()"
   ]
  },
  {
   "cell_type": "code",
   "execution_count": 10,
   "id": "3131c0cb",
   "metadata": {},
   "outputs": [
    {
     "data": {
      "image/png": "[encoded data removed]",
      "text/plain": [
       "<Figure size 1440x504 with 2 Axes>"
      ]
     },
     "metadata": {
      "needs_background": "light"
     },
     "output_type": "display_data"
    }
   ],
   "source": [
    "fg, ax =plt.subplots(1,2,figsize=(20,7))\n",
    "ax[0].plot(train1_cleaned_df['Open'],label='Apertura',color='green')\n",
    "ax[0].set_xlabel('Date',size=15)\n",
    "ax[0].set_ylabel('Price',size=15)\n",
    "ax[0].legend()\n",
    "\n",
    "ax[1].plot(train1_cleaned_df['Close'],label='Cierre',color='red')\n",
    "ax[1].set_xlabel('Date',size=15)\n",
    "ax[1].set_ylabel('Price',size=15)\n",
    "ax[1].legend()\n",
    "\n",
    "plt.show()"
   ]
  },
  {
   "cell_type": "markdown",
   "id": "e8a818d6",
   "metadata": {},
   "source": [
    "### 2.1.2 Leyendo segundo dato CSV (tweets_from2015_#Ibex35.csv)"
   ]
  },
  {
   "cell_type": "code",
   "execution_count": 11,
   "id": "12c0690f",
   "metadata": {},
   "outputs": [],
   "source": [
    "#1. Con pandas, importamos el dataset 1\n",
    "train2_df = pd.read_csv(\"tweets_from2015_#Ibex35.csv\", sep=',')"
   ]
  },
  {
   "cell_type": "code",
   "execution_count": 12,
   "id": "2c9a8e82",
   "metadata": {},
   "outputs": [
    {
     "data": {
      "text/html": [
       "<div>\n",
       "<style scoped>\n",
       "    .dataframe tbody tr th:only-of-type {\n",
       "        vertical-align: middle;\n",
       "    }\n",
       "\n",
       "    .dataframe tbody tr th {\n",
       "        vertical-align: top;\n",
       "    }\n",
       "\n",
       "    .dataframe thead th {\n",
       "        text-align: right;\n",
       "    }\n",
       "</style>\n",
       "<table border=\"1\" class=\"dataframe\">\n",
       "  <thead>\n",
       "    <tr style=\"text-align: right;\">\n",
       "      <th></th>\n",
       "      <th>tweetDate</th>\n",
       "      <th>handle</th>\n",
       "      <th>text</th>\n",
       "    </tr>\n",
       "  </thead>\n",
       "  <tbody>\n",
       "    <tr>\n",
       "      <th>0</th>\n",
       "      <td>Sat Apr 09 14:47:45 +0000 2022</td>\n",
       "      <td>abelac62</td>\n",
       "      <td>He hecho el repaso de todos los componentes de...</td>\n",
       "    </tr>\n",
       "    <tr>\n",
       "      <th>1</th>\n",
       "      <td>Thu Apr 07 19:14:36 +0000 2022</td>\n",
       "      <td>LluisPerarnau</td>\n",
       "      <td>Els projectes que han presentat les empreses d...</td>\n",
       "    </tr>\n",
       "    <tr>\n",
       "      <th>2</th>\n",
       "      <td>Mon Apr 04 16:48:45 +0000 2022</td>\n",
       "      <td>Pegaso121080</td>\n",
       "      <td>Por si no lo has visto, o no lo encuentras en ...</td>\n",
       "    </tr>\n",
       "    <tr>\n",
       "      <th>3</th>\n",
       "      <td>Tue Apr 05 07:23:16 +0000 2022</td>\n",
       "      <td>zonavalue</td>\n",
       "      <td>📈 #BOLSA: El #Ibex35 abre en 🟢 \\n\\n🇪🇸 #Ibex35 ...</td>\n",
       "    </tr>\n",
       "    <tr>\n",
       "      <th>4</th>\n",
       "      <td>Thu Mar 31 16:07:43 +0000 2022</td>\n",
       "      <td>EPeconomia</td>\n",
       "      <td>El #Ibex35 retrocede un 0,4% en marzo y un 3,0...</td>\n",
       "    </tr>\n",
       "  </tbody>\n",
       "</table>\n",
       "</div>"
      ],
      "text/plain": [
       "                        tweetDate         handle  \\\n",
       "0  Sat Apr 09 14:47:45 +0000 2022       abelac62   \n",
       "1  Thu Apr 07 19:14:36 +0000 2022  LluisPerarnau   \n",
       "2  Mon Apr 04 16:48:45 +0000 2022   Pegaso121080   \n",
       "3  Tue Apr 05 07:23:16 +0000 2022      zonavalue   \n",
       "4  Thu Mar 31 16:07:43 +0000 2022     EPeconomia   \n",
       "\n",
       "                                                text  \n",
       "0  He hecho el repaso de todos los componentes de...  \n",
       "1  Els projectes que han presentat les empreses d...  \n",
       "2  Por si no lo has visto, o no lo encuentras en ...  \n",
       "3  📈 #BOLSA: El #Ibex35 abre en 🟢 \\n\\n🇪🇸 #Ibex35 ...  \n",
       "4  El #Ibex35 retrocede un 0,4% en marzo y un 3,0...  "
      ]
     },
     "execution_count": 12,
     "metadata": {},
     "output_type": "execute_result"
    }
   ],
   "source": [
    "#2.Observamos encabezado\n",
    "train2_df.head()"
   ]
  },
  {
   "cell_type": "code",
   "execution_count": 13,
   "id": "ac65eb48",
   "metadata": {},
   "outputs": [
    {
     "name": "stdout",
     "output_type": "stream",
     "text": [
      "<class 'pandas.core.frame.DataFrame'>\n",
      "RangeIndex: 9801 entries, 0 to 9800\n",
      "Data columns (total 3 columns):\n",
      " #   Column     Non-Null Count  Dtype \n",
      "---  ------     --------------  ----- \n",
      " 0   tweetDate  9799 non-null   object\n",
      " 1   handle     9798 non-null   object\n",
      " 2   text       9797 non-null   object\n",
      "dtypes: object(3)\n",
      "memory usage: 229.8+ KB\n"
     ]
    }
   ],
   "source": [
    "train2_df.info()"
   ]
  },
  {
   "cell_type": "code",
   "execution_count": 14,
   "id": "61a2bf41",
   "metadata": {},
   "outputs": [
    {
     "data": {
      "text/html": [
       "<div>\n",
       "<style scoped>\n",
       "    .dataframe tbody tr th:only-of-type {\n",
       "        vertical-align: middle;\n",
       "    }\n",
       "\n",
       "    .dataframe tbody tr th {\n",
       "        vertical-align: top;\n",
       "    }\n",
       "\n",
       "    .dataframe thead th {\n",
       "        text-align: right;\n",
       "    }\n",
       "</style>\n",
       "<table border=\"1\" class=\"dataframe\">\n",
       "  <thead>\n",
       "    <tr style=\"text-align: right;\">\n",
       "      <th></th>\n",
       "      <th>tweetDate</th>\n",
       "      <th>handle</th>\n",
       "      <th>text</th>\n",
       "    </tr>\n",
       "  </thead>\n",
       "  <tbody>\n",
       "    <tr>\n",
       "      <th>count</th>\n",
       "      <td>9799</td>\n",
       "      <td>9798</td>\n",
       "      <td>9797</td>\n",
       "    </tr>\n",
       "    <tr>\n",
       "      <th>unique</th>\n",
       "      <td>9780</td>\n",
       "      <td>2114</td>\n",
       "      <td>9763</td>\n",
       "    </tr>\n",
       "    <tr>\n",
       "      <th>top</th>\n",
       "      <td>Wed Jun 10 17:21:23 +0000 2020</td>\n",
       "      <td>Bolsacarlosmari</td>\n",
       "      <td>OJO HOY #VENCIMIENTOS \\n\\nHORARIO de #VENCIMIE...</td>\n",
       "    </tr>\n",
       "    <tr>\n",
       "      <th>freq</th>\n",
       "      <td>2</td>\n",
       "      <td>380</td>\n",
       "      <td>5</td>\n",
       "    </tr>\n",
       "  </tbody>\n",
       "</table>\n",
       "</div>"
      ],
      "text/plain": [
       "                             tweetDate           handle  \\\n",
       "count                             9799             9798   \n",
       "unique                            9780             2114   \n",
       "top     Wed Jun 10 17:21:23 +0000 2020  Bolsacarlosmari   \n",
       "freq                                 2              380   \n",
       "\n",
       "                                                     text  \n",
       "count                                                9797  \n",
       "unique                                               9763  \n",
       "top     OJO HOY #VENCIMIENTOS \\n\\nHORARIO de #VENCIMIE...  \n",
       "freq                                                    5  "
      ]
     },
     "execution_count": 14,
     "metadata": {},
     "output_type": "execute_result"
    }
   ],
   "source": [
    "train2_df.describe()"
   ]
  },
  {
   "cell_type": "code",
   "execution_count": 15,
   "id": "4de0cba5",
   "metadata": {},
   "outputs": [
    {
     "data": {
      "text/plain": [
       "tweetDate    2\n",
       "handle       3\n",
       "text         4\n",
       "dtype: int64"
      ]
     },
     "execution_count": 15,
     "metadata": {},
     "output_type": "execute_result"
    }
   ],
   "source": [
    "train2_df.isnull().sum()"
   ]
  },
  {
   "cell_type": "code",
   "execution_count": 16,
   "id": "5fe664b5",
   "metadata": {},
   "outputs": [],
   "source": [
    "train2_df = train2_df.dropna()"
   ]
  },
  {
   "cell_type": "code",
   "execution_count": 17,
   "id": "d390d30e",
   "metadata": {},
   "outputs": [
    {
     "data": {
      "text/plain": [
       "Index(['tweetDate', 'handle', 'text'], dtype='object')"
      ]
     },
     "execution_count": 17,
     "metadata": {},
     "output_type": "execute_result"
    }
   ],
   "source": [
    "train2_df.columns"
   ]
  },
  {
   "cell_type": "code",
   "execution_count": 18,
   "id": "3132c1ab",
   "metadata": {},
   "outputs": [
    {
     "data": {
      "text/html": [
       "<div>\n",
       "<style scoped>\n",
       "    .dataframe tbody tr th:only-of-type {\n",
       "        vertical-align: middle;\n",
       "    }\n",
       "\n",
       "    .dataframe tbody tr th {\n",
       "        vertical-align: top;\n",
       "    }\n",
       "\n",
       "    .dataframe thead th {\n",
       "        text-align: right;\n",
       "    }\n",
       "</style>\n",
       "<table border=\"1\" class=\"dataframe\">\n",
       "  <thead>\n",
       "    <tr style=\"text-align: right;\">\n",
       "      <th></th>\n",
       "      <th>text</th>\n",
       "    </tr>\n",
       "  </thead>\n",
       "  <tbody>\n",
       "    <tr>\n",
       "      <th>0</th>\n",
       "      <td>He hecho el repaso de todos los componentes de...</td>\n",
       "    </tr>\n",
       "    <tr>\n",
       "      <th>1</th>\n",
       "      <td>Els projectes que han presentat les empreses d...</td>\n",
       "    </tr>\n",
       "    <tr>\n",
       "      <th>2</th>\n",
       "      <td>Por si no lo has visto, o no lo encuentras en ...</td>\n",
       "    </tr>\n",
       "    <tr>\n",
       "      <th>3</th>\n",
       "      <td>📈 #BOLSA: El #Ibex35 abre en 🟢 \\n\\n🇪🇸 #Ibex35 ...</td>\n",
       "    </tr>\n",
       "    <tr>\n",
       "      <th>4</th>\n",
       "      <td>El #Ibex35 retrocede un 0,4% en marzo y un 3,0...</td>\n",
       "    </tr>\n",
       "  </tbody>\n",
       "</table>\n",
       "</div>"
      ],
      "text/plain": [
       "                                                text\n",
       "0  He hecho el repaso de todos los componentes de...\n",
       "1  Els projectes que han presentat les empreses d...\n",
       "2  Por si no lo has visto, o no lo encuentras en ...\n",
       "3  📈 #BOLSA: El #Ibex35 abre en 🟢 \\n\\n🇪🇸 #Ibex35 ...\n",
       "4  El #Ibex35 retrocede un 0,4% en marzo y un 3,0..."
      ]
     },
     "execution_count": 18,
     "metadata": {},
     "output_type": "execute_result"
    }
   ],
   "source": [
    "train2_df[[\"text\"]].head()"
   ]
  },
  {
   "cell_type": "code",
   "execution_count": 19,
   "id": "069bae30",
   "metadata": {},
   "outputs": [
    {
     "data": {
      "text/plain": [
       "'He hecho el repaso de todos los componentes del #IBEX35 y ahora me pongo con lo de La Chiqui. Si mañana tengo tiempo, publicaré algún activo interesante del mercado europeo y americano. Buen fin de semana.'"
      ]
     },
     "execution_count": 19,
     "metadata": {},
     "output_type": "execute_result"
    }
   ],
   "source": [
    "train2_df[\"text\"][0]"
   ]
  },
  {
   "cell_type": "markdown",
   "id": "fdf3e533",
   "metadata": {},
   "source": [
    "### ✅  3) Adaptar la información, identificar y corregir anomalías 🔧"
   ]
  },
  {
   "cell_type": "markdown",
   "id": "eb7980f5",
   "metadata": {},
   "source": [
    "* Se utilizará la librería **NLT** para lenguaje natural (Natural Languaje Toolkit) con los métodos stopword y pr para analizar eficientemente los twits.\n",
    "* En combinación con **NLT** se importará la librería **TextBlob** procesa texto y será capaz de generar algún tipo de \"sentimiento\" o \"clasificación\" del texto.\n",
    "\n",
    "Finalmente el objetivo es obtener un **DATASET** con dos columnas, _fecha_ estandarizada bajo el mismo formato que el primer dataset y _sentimiento_ (0 baja y 1 alza) "
   ]
  },
  {
   "cell_type": "code",
   "execution_count": 20,
   "id": "a0b817ab",
   "metadata": {},
   "outputs": [
    {
     "name": "stderr",
     "output_type": "stream",
     "text": [
      "[nltk_data] Downloading package stopwords to\n",
      "[nltk_data]     C:\\Users\\Kevin\\AppData\\Roaming\\nltk_data...\n",
      "[nltk_data]   Package stopwords is already up-to-date!\n"
     ]
    }
   ],
   "source": [
    "import string\n",
    "import re\n",
    "import nltk\n",
    "from nltk.util import pr\n",
    "from nltk.corpus import stopwords\n",
    "import warnings\n",
    "from textblob import TextBlob\n",
    "warnings.filterwarnings('ignore')\n",
    "stemmer = nltk.SnowballStemmer(\"spanish\")\n",
    "nltk.download('stopwords')\n",
    "stopword=set(stopwords.words('spanish'))"
   ]
  },
  {
   "cell_type": "code",
   "execution_count": 21,
   "id": "e9717dea",
   "metadata": {},
   "outputs": [],
   "source": [
    "train2_cleaned_df = train2_df.copy(deep=True)#Hacemos un backup del train2_df"
   ]
  },
  {
   "cell_type": "code",
   "execution_count": 22,
   "id": "74e0e81b",
   "metadata": {},
   "outputs": [],
   "source": [
    "def clean(text):\n",
    "    text = str(text).lower()\n",
    "    text = re.sub('\\[.*?\\]', '', text)\n",
    "    text = re.sub('https?://\\S+|www\\.\\S+', '', text)\n",
    "    text = re.sub('<.*?>+', '', text)\n",
    "    text = re.sub('[%s]' % re.escape(string.punctuation), '', text)\n",
    "    text = re.sub('\\n', '', text)\n",
    "    text = re.sub('\\w*\\d\\w*', '', text)\n",
    "    text = [word for word in text.split(' ') if word not in stopword]\n",
    "    text=\" \".join(text)\n",
    "    text = [stemmer.stem(word) for word in text.split(' ')]\n",
    "    text=\" \".join(text)\n",
    "    return text"
   ]
  },
  {
   "cell_type": "code",
   "execution_count": 23,
   "id": "18799724",
   "metadata": {},
   "outputs": [],
   "source": [
    "train2_cleaned_df[\"text\"] = train2_cleaned_df[\"text\"].apply(clean)"
   ]
  },
  {
   "cell_type": "code",
   "execution_count": 24,
   "id": "080bdc94",
   "metadata": {},
   "outputs": [
    {
     "data": {
      "text/plain": [
       "'hech repas component  ahor pong chiqui si mañan tiemp public algun activ interes merc europe american buen fin seman'"
      ]
     },
     "execution_count": 24,
     "metadata": {},
     "output_type": "execute_result"
    }
   ],
   "source": [
    "train2_cleaned_df[\"text\"][0]"
   ]
  },
  {
   "cell_type": "code",
   "execution_count": 25,
   "id": "51a70cf9",
   "metadata": {},
   "outputs": [
    {
     "data": {
      "text/plain": [
       "'He hecho el repaso de todos los componentes del #IBEX35 y ahora me pongo con lo de La Chiqui. Si mañana tengo tiempo, publicaré algún activo interesante del mercado europeo y americano. Buen fin de semana.'"
      ]
     },
     "execution_count": 25,
     "metadata": {},
     "output_type": "execute_result"
    }
   ],
   "source": [
    "train2_df[\"text\"][0]"
   ]
  },
  {
   "cell_type": "code",
   "execution_count": 26,
   "id": "692b8dc0",
   "metadata": {},
   "outputs": [],
   "source": [
    "def analyze_sentiment(tweet):\n",
    "    \"\"\"Análisis subjetivo de sentimiento del tweet\"\"\"\n",
    "    analysis = TextBlob(clean(tweet))\n",
    "    if analysis.sentiment.subjectivity > 0:\n",
    "        return 1\n",
    "    elif analysis.sentiment.subjectivity == 0:\n",
    "        return 0\n",
    "    else:\n",
    "        return -1"
   ]
  },
  {
   "cell_type": "code",
   "execution_count": 27,
   "id": "a113f6a6",
   "metadata": {},
   "outputs": [],
   "source": [
    "train2_cleaned_df['Sentiment'] = train2_cleaned_df['text'].apply(lambda x:analyze_sentiment(x))"
   ]
  },
  {
   "cell_type": "code",
   "execution_count": 28,
   "id": "4b113e1e",
   "metadata": {},
   "outputs": [
    {
     "data": {
      "text/html": [
       "<div>\n",
       "<style scoped>\n",
       "    .dataframe tbody tr th:only-of-type {\n",
       "        vertical-align: middle;\n",
       "    }\n",
       "\n",
       "    .dataframe tbody tr th {\n",
       "        vertical-align: top;\n",
       "    }\n",
       "\n",
       "    .dataframe thead th {\n",
       "        text-align: right;\n",
       "    }\n",
       "</style>\n",
       "<table border=\"1\" class=\"dataframe\">\n",
       "  <thead>\n",
       "    <tr style=\"text-align: right;\">\n",
       "      <th></th>\n",
       "      <th>tweetDate</th>\n",
       "      <th>handle</th>\n",
       "      <th>text</th>\n",
       "      <th>Sentiment</th>\n",
       "    </tr>\n",
       "  </thead>\n",
       "  <tbody>\n",
       "    <tr>\n",
       "      <th>0</th>\n",
       "      <td>Sat Apr 09 14:47:45 +0000 2022</td>\n",
       "      <td>abelac62</td>\n",
       "      <td>hech repas component  ahor pong chiqui si maña...</td>\n",
       "      <td>1</td>\n",
       "    </tr>\n",
       "    <tr>\n",
       "      <th>1</th>\n",
       "      <td>Thu Apr 07 19:14:36 +0000 2022</td>\n",
       "      <td>LluisPerarnau</td>\n",
       "      <td>els project presentat empres  als fons nextgen...</td>\n",
       "      <td>0</td>\n",
       "    </tr>\n",
       "    <tr>\n",
       "      <th>2</th>\n",
       "      <td>Mon Apr 04 16:48:45 +0000 2022</td>\n",
       "      <td>Pegaso121080</td>\n",
       "      <td>si vist encuentr busqued suel pas 🤔analisis ni...</td>\n",
       "      <td>1</td>\n",
       "    </tr>\n",
       "    <tr>\n",
       "      <th>3</th>\n",
       "      <td>Tue Apr 05 07:23:16 +0000 2022</td>\n",
       "      <td>zonavalue</td>\n",
       "      <td>📈 bols  abre 🟢 🇪🇸  🔼    puntosmayor subidasaen...</td>\n",
       "      <td>0</td>\n",
       "    </tr>\n",
       "    <tr>\n",
       "      <th>4</th>\n",
       "      <td>Thu Mar 31 16:07:43 +0000 2022</td>\n",
       "      <td>EPeconomia</td>\n",
       "      <td>retroced  marz  prim trimestr</td>\n",
       "      <td>0</td>\n",
       "    </tr>\n",
       "    <tr>\n",
       "      <th>...</th>\n",
       "      <td>...</td>\n",
       "      <td>...</td>\n",
       "      <td>...</td>\n",
       "      <td>...</td>\n",
       "    </tr>\n",
       "    <tr>\n",
       "      <th>9796</th>\n",
       "      <td>Thu Jan 08 16:41:36 +0000 2015</td>\n",
       "      <td>elEconomistaes</td>\n",
       "      <td>cierr   sub   punt</td>\n",
       "      <td>0</td>\n",
       "    </tr>\n",
       "    <tr>\n",
       "      <th>9797</th>\n",
       "      <td>Sat Jan 03 17:20:30 +0000 2015</td>\n",
       "      <td>Roger_bolsa</td>\n",
       "      <td>vistaz bluechips ibex  analisis bancosantand i...</td>\n",
       "      <td>0</td>\n",
       "    </tr>\n",
       "    <tr>\n",
       "      <th>9798</th>\n",
       "      <td>Sat Jan 10 19:42:45 +0000 2015</td>\n",
       "      <td>Secretosdebolsa</td>\n",
       "      <td>asi comienz bols  ojo soport europ especial es...</td>\n",
       "      <td>0</td>\n",
       "    </tr>\n",
       "    <tr>\n",
       "      <th>9799</th>\n",
       "      <td>Sat Jan 10 21:47:17 +0000 2015</td>\n",
       "      <td>Roger_bolsa</td>\n",
       "      <td>analisis bancosantand santand san tras desplom...</td>\n",
       "      <td>0</td>\n",
       "    </tr>\n",
       "    <tr>\n",
       "      <th>9800</th>\n",
       "      <td>Mon Jan 05 15:06:49 +0000 2015</td>\n",
       "      <td>elEconomistaes</td>\n",
       "      <td>profundiz caid  pierd  punt</td>\n",
       "      <td>0</td>\n",
       "    </tr>\n",
       "  </tbody>\n",
       "</table>\n",
       "<p>9797 rows × 4 columns</p>\n",
       "</div>"
      ],
      "text/plain": [
       "                           tweetDate           handle  \\\n",
       "0     Sat Apr 09 14:47:45 +0000 2022         abelac62   \n",
       "1     Thu Apr 07 19:14:36 +0000 2022    LluisPerarnau   \n",
       "2     Mon Apr 04 16:48:45 +0000 2022     Pegaso121080   \n",
       "3     Tue Apr 05 07:23:16 +0000 2022        zonavalue   \n",
       "4     Thu Mar 31 16:07:43 +0000 2022       EPeconomia   \n",
       "...                              ...              ...   \n",
       "9796  Thu Jan 08 16:41:36 +0000 2015   elEconomistaes   \n",
       "9797  Sat Jan 03 17:20:30 +0000 2015      Roger_bolsa   \n",
       "9798  Sat Jan 10 19:42:45 +0000 2015  Secretosdebolsa   \n",
       "9799  Sat Jan 10 21:47:17 +0000 2015      Roger_bolsa   \n",
       "9800  Mon Jan 05 15:06:49 +0000 2015   elEconomistaes   \n",
       "\n",
       "                                                   text  Sentiment  \n",
       "0     hech repas component  ahor pong chiqui si maña...          1  \n",
       "1     els project presentat empres  als fons nextgen...          0  \n",
       "2     si vist encuentr busqued suel pas 🤔analisis ni...          1  \n",
       "3     📈 bols  abre 🟢 🇪🇸  🔼    puntosmayor subidasaen...          0  \n",
       "4                       retroced  marz  prim trimestr            0  \n",
       "...                                                 ...        ...  \n",
       "9796                                cierr   sub   punt           0  \n",
       "9797  vistaz bluechips ibex  analisis bancosantand i...          0  \n",
       "9798  asi comienz bols  ojo soport europ especial es...          0  \n",
       "9799  analisis bancosantand santand san tras desplom...          0  \n",
       "9800                       profundiz caid  pierd  punt           0  \n",
       "\n",
       "[9797 rows x 4 columns]"
      ]
     },
     "execution_count": 28,
     "metadata": {},
     "output_type": "execute_result"
    }
   ],
   "source": [
    "train2_cleaned_df"
   ]
  },
  {
   "cell_type": "code",
   "execution_count": 29,
   "id": "ca03d403",
   "metadata": {},
   "outputs": [
    {
     "data": {
      "text/plain": [
       "array([1, 0], dtype=int64)"
      ]
     },
     "execution_count": 29,
     "metadata": {},
     "output_type": "execute_result"
    }
   ],
   "source": [
    "train2_cleaned_df[\"Sentiment\"].unique() #No nos quedaron sentimientos sin asignar, todos son 1 o 0"
   ]
  },
  {
   "cell_type": "code",
   "execution_count": 30,
   "id": "293b22bf",
   "metadata": {},
   "outputs": [
    {
     "data": {
      "text/plain": [
       "'si vist encuentr busqued suel pas 🤔analisis nivel  vari accion youtub ezentis aedashom lleidanet merlinpropertis bbva much canal 🧐🙏esper gust ayud 🔄'"
      ]
     },
     "execution_count": 30,
     "metadata": {},
     "output_type": "execute_result"
    }
   ],
   "source": [
    "train2_cleaned_df[\"text\"][2]"
   ]
  },
  {
   "cell_type": "markdown",
   "id": "8b88c604",
   "metadata": {},
   "source": [
    "Transformamos la fecha de columna \"tweetDate\" al mismo formato que el dataset original (AÑO-MES-DÍA)"
   ]
  },
  {
   "cell_type": "code",
   "execution_count": 31,
   "id": "2f492760",
   "metadata": {},
   "outputs": [],
   "source": [
    "#todos aquellos datos que no sean fechas los rellenamos con NAN\n",
    "train2_cleaned_df['Date'] = pd.to_datetime(train2_cleaned_df['tweetDate'], errors='coerce')"
   ]
  },
  {
   "cell_type": "code",
   "execution_count": 32,
   "id": "d0aa2d7c",
   "metadata": {},
   "outputs": [],
   "source": [
    "train2_cleaned_df = train2_cleaned_df.dropna(subset=['Date'])"
   ]
  },
  {
   "cell_type": "code",
   "execution_count": 33,
   "id": "e6beda8a",
   "metadata": {},
   "outputs": [
    {
     "data": {
      "text/plain": [
       "0      2022-04-09 14:47:45+00:00\n",
       "1      2022-04-07 19:14:36+00:00\n",
       "2      2022-04-04 16:48:45+00:00\n",
       "3      2022-04-05 07:23:16+00:00\n",
       "4      2022-03-31 16:07:43+00:00\n",
       "                  ...           \n",
       "9796   2015-01-08 16:41:36+00:00\n",
       "9797   2015-01-03 17:20:30+00:00\n",
       "9798   2015-01-10 19:42:45+00:00\n",
       "9799   2015-01-10 21:47:17+00:00\n",
       "9800   2015-01-05 15:06:49+00:00\n",
       "Name: Date, Length: 9793, dtype: datetime64[ns, UTC]"
      ]
     },
     "execution_count": 33,
     "metadata": {},
     "output_type": "execute_result"
    }
   ],
   "source": [
    "train2_cleaned_df['Date']"
   ]
  },
  {
   "cell_type": "code",
   "execution_count": 34,
   "id": "6c651bee",
   "metadata": {},
   "outputs": [],
   "source": [
    "d=str(train2_cleaned_df['Date'])"
   ]
  },
  {
   "cell_type": "code",
   "execution_count": 35,
   "id": "7861c4ab",
   "metadata": {},
   "outputs": [],
   "source": [
    "date = [] #pasamos a array las fechas\n",
    "for i in train2_cleaned_df['Date']: #recorremos cada una de las fechas\n",
    "    date.append(pd.to_datetime(i).date())#apendizamos las fechas en un array"
   ]
  },
  {
   "cell_type": "code",
   "execution_count": 36,
   "id": "30e5e076",
   "metadata": {},
   "outputs": [],
   "source": [
    "train2_cleaned_df['Date'] = date #Con esto coincidimos los formatos de las fechas"
   ]
  },
  {
   "cell_type": "code",
   "execution_count": 37,
   "id": "f71260d7",
   "metadata": {},
   "outputs": [],
   "source": [
    "train2_cleaned_df = train2_cleaned_df.drop(['tweetDate', 'handle','text'], axis = 1) #limpiamos las columnas que no nos interesan"
   ]
  },
  {
   "cell_type": "code",
   "execution_count": 38,
   "id": "2725ab6c",
   "metadata": {},
   "outputs": [],
   "source": [
    "a = train2_cleaned_df.drop(\"Sentiment\", 1) #reacomodamos las columnas para que quede sentiment al final\n",
    "b = train2_cleaned_df[\"Sentiment\"]\n",
    "train2_twit_sent_df= pd.concat([a, b], axis = 1)"
   ]
  },
  {
   "cell_type": "code",
   "execution_count": 39,
   "id": "81fd04d6",
   "metadata": {
    "scrolled": false
   },
   "outputs": [
    {
     "data": {
      "text/html": [
       "<div>\n",
       "<style scoped>\n",
       "    .dataframe tbody tr th:only-of-type {\n",
       "        vertical-align: middle;\n",
       "    }\n",
       "\n",
       "    .dataframe tbody tr th {\n",
       "        vertical-align: top;\n",
       "    }\n",
       "\n",
       "    .dataframe thead th {\n",
       "        text-align: right;\n",
       "    }\n",
       "</style>\n",
       "<table border=\"1\" class=\"dataframe\">\n",
       "  <thead>\n",
       "    <tr style=\"text-align: right;\">\n",
       "      <th></th>\n",
       "      <th>Date</th>\n",
       "      <th>Sentiment</th>\n",
       "    </tr>\n",
       "  </thead>\n",
       "  <tbody>\n",
       "    <tr>\n",
       "      <th>0</th>\n",
       "      <td>2022-04-09</td>\n",
       "      <td>1</td>\n",
       "    </tr>\n",
       "    <tr>\n",
       "      <th>1</th>\n",
       "      <td>2022-04-07</td>\n",
       "      <td>0</td>\n",
       "    </tr>\n",
       "  </tbody>\n",
       "</table>\n",
       "</div>"
      ],
      "text/plain": [
       "         Date  Sentiment\n",
       "0  2022-04-09          1\n",
       "1  2022-04-07          0"
      ]
     },
     "execution_count": 39,
     "metadata": {},
     "output_type": "execute_result"
    }
   ],
   "source": [
    "train2_twit_sent_df.head(2) #Obtenemos nuestro dataset de los sentimientos 1 si es \"subjetivamente postivio\" y 0 si es \"subjetivamente negativo\""
   ]
  },
  {
   "cell_type": "markdown",
   "id": "f3f7528e",
   "metadata": {},
   "source": [
    "### ✅  4) Preparar datos para training y testing 🏃‍♂️"
   ]
  },
  {
   "cell_type": "code",
   "execution_count": 40,
   "id": "8cad4d3e",
   "metadata": {},
   "outputs": [],
   "source": [
    "# 1. Filtramos los datos de cierre de mercado\n",
    "close_data = train1_cleaned_df.filter(['Close'])"
   ]
  },
  {
   "cell_type": "code",
   "execution_count": 41,
   "id": "e232e774",
   "metadata": {},
   "outputs": [],
   "source": [
    "# 2. Convertimos los datos a array para una evaluación más rápida\n",
    "dataset = close_data.values"
   ]
  },
  {
   "cell_type": "code",
   "execution_count": 42,
   "id": "eb72570e",
   "metadata": {},
   "outputs": [],
   "source": [
    "# 3. Normalizamos los datos para que todos los valores estén entre 0 y 1\n",
    "scaler = MinMaxScaler(feature_range=(0, 1))\n",
    "scaled_data = scaler.fit_transform(dataset)"
   ]
  },
  {
   "cell_type": "code",
   "execution_count": 43,
   "id": "ab5d3ee5",
   "metadata": {},
   "outputs": [],
   "source": [
    "# 4. Creamos el dataset de training con el 70% de los datos\n",
    "training_data_len = math.ceil(len(dataset) *.7)\n",
    "train_data = scaled_data[0:training_data_len  , : ]"
   ]
  },
  {
   "cell_type": "code",
   "execution_count": 44,
   "id": "7f8784ef",
   "metadata": {},
   "outputs": [],
   "source": [
    "# 5. Separamos los datos entre x e y respectivamente para entrenar el modelo\n",
    "x_train_data=[]\n",
    "y_train_data =[]\n",
    "for i in range(60,len(train_data)):#tomamos los últimos 60 días para hacer la predicción de 3 días a posteriori\n",
    "    x_train_data=list(x_train_data)\n",
    "    y_train_data=list(y_train_data)\n",
    "    x_train_data.append(train_data[i-60:i,0]) \n",
    "    y_train_data.append(train_data[i,0])\n",
    " \n",
    "    # 6. Convertimos los valores de x e y en arrays de numpy\n",
    "    x_train_data1, y_train_data1 = np.array(x_train_data), np.array(y_train_data)\n",
    " \n",
    "    # 7. Transformamos el formato de los array para facilitar los futuros cálculos\n",
    "    x_train_data2 = np.reshape(x_train_data1, (x_train_data1.shape[0],x_train_data1.shape[1],1))\n"
   ]
  },
  {
   "cell_type": "markdown",
   "id": "23f7b0fc",
   "metadata": {},
   "source": [
    "### ✅ 5) Entrenar el modelo con los datos de entrenamiento🏋️‍♀️"
   ]
  },
  {
   "cell_type": "markdown",
   "id": "ad38db9d",
   "metadata": {},
   "source": [
    "Para resolver de manera eficiente el problema de la predicción, utilizaremos una Red Neuronal Recurrente llamada **LSTM**, este tipo de red está precisamente enfocada para algoritmos de predicción de _stocks_, donde los datos históricos son constantemente actualizados y por ende, cualquier algoritmo de Machine Learning basado en indicadores, llámese \"support vector machines, decision trees, principal component analysis, random forest, ensemble methods etc.\" no serían tan eficientes dado que la hipótesis de estos analizadores no siempre es correcta y no generan un resultado ideal.\n",
    "Por otro lado **LSTM** es una red neuronal que utiliza 3 \"puertas\" para modificar e ir actualizando constánemente la célula o núcleo de los precios/volúmen, etc. que comprende esta red neuronal, y por ende permite prescindir de cualquier indicador calculado previament."
   ]
  },
  {
   "cell_type": "markdown",
   "id": "a5cf5df1",
   "metadata": {},
   "source": [
    "#### 5.1.1Construyendo el modelo LSTM"
   ]
  },
  {
   "cell_type": "markdown",
   "id": "8eab8e8d",
   "metadata": {},
   "source": [
    "##### Long Short-Term Memory (LSTM) "
   ]
  },
  {
   "cell_type": "markdown",
   "id": "a2f225e6",
   "metadata": {},
   "source": [
    "El modelo LSTM estandar, utilizado para estos análisis contiene dos capas LSTM con 50 neuronas y dos capas densas, una con 25 neuronas y la otra con una neurona."
   ]
  },
  {
   "cell_type": "code",
   "execution_count": 45,
   "id": "60b14eb7",
   "metadata": {},
   "outputs": [],
   "source": [
    "model = Sequential()\n",
    "model.add(LSTM(units=50, return_sequences=True,input_shape=(x_train_data2.shape[1],1)))\n",
    "model.add(LSTM(units=50, return_sequences=False))\n",
    "model.add(Dense(units=25))\n",
    "model.add(Dense(units=1))"
   ]
  },
  {
   "cell_type": "markdown",
   "id": "ad72005f",
   "metadata": {},
   "source": [
    "Se utilizará para el cálculo de la función de pérdida \"loss\" el error cuadrático medio (MSE) y para el optimizador el optimizador será el de \"Adam\" (Adaptive Moment Estimation) puesto que para este caso, es uno de optimizadores más eficientes combinando las capacidades de otros dos optimizadores como el AdaGrad y RMSProp."
   ]
  },
  {
   "cell_type": "markdown",
   "id": "e8889b4c",
   "metadata": {},
   "source": [
    "#### 5.1.2 Compilando el modelo"
   ]
  },
  {
   "cell_type": "code",
   "execution_count": 46,
   "id": "df977423",
   "metadata": {},
   "outputs": [
    {
     "name": "stdout",
     "output_type": "stream",
     "text": [
      "4435/4435 [==============================] - 63s 14ms/step - loss: 0.0011\n"
     ]
    },
    {
     "data": {
      "text/plain": [
       "<keras.callbacks.History at 0x1f86d281e20>"
      ]
     },
     "execution_count": 46,
     "metadata": {},
     "output_type": "execute_result"
    }
   ],
   "source": [
    "model.compile(optimizer='adam', loss='mean_squared_error')\n",
    "model.fit(x_train_data2, y_train_data1, batch_size=1, epochs=1)"
   ]
  },
  {
   "cell_type": "markdown",
   "id": "2c772e5b",
   "metadata": {},
   "source": [
    "### ✅ 6) Hacer predicciones con los datos de prueba 🤔"
   ]
  },
  {
   "cell_type": "markdown",
   "id": "f67ac576",
   "metadata": {},
   "source": [
    "#### 6.1 Probando el modelo en los datos de prueba"
   ]
  },
  {
   "cell_type": "code",
   "execution_count": 47,
   "id": "7733e570",
   "metadata": {},
   "outputs": [],
   "source": [
    "# 1. Crear el dataset para testing\n",
    "test_data = scaled_data[training_data_len - 60: , : ]\n",
    "x_test = []\n",
    "y_test =  dataset[training_data_len : , : ]\n",
    "for i in range(60,len(test_data)):\n",
    "    x_test.append(test_data[i-60:i,0])"
   ]
  },
  {
   "cell_type": "code",
   "execution_count": 48,
   "id": "f2388e47",
   "metadata": {},
   "outputs": [],
   "source": [
    "# 2.  Convertir los valores en arrays para facilitar el cálculo\n",
    "x_test = np.array(x_test)\n",
    "x_test = np.reshape(x_test, (x_test.shape[0],x_test.shape[1],1))"
   ]
  },
  {
   "cell_type": "code",
   "execution_count": 49,
   "id": "4aedbd61",
   "metadata": {},
   "outputs": [
    {
     "name": "stdout",
     "output_type": "stream",
     "text": [
      "61/61 [==============================] - 1s 8ms/step\n"
     ]
    }
   ],
   "source": [
    "# 3. Realizando predicciones con el 30% de testing\n",
    "predictions = model.predict(x_test)\n",
    "predictions = scaler.inverse_transform(predictions)"
   ]
  },
  {
   "cell_type": "markdown",
   "id": "4fd5e988",
   "metadata": {},
   "source": [
    "#### 6.2 Cálculo de los errores"
   ]
  },
  {
   "cell_type": "code",
   "execution_count": 50,
   "id": "ead37696",
   "metadata": {},
   "outputs": [],
   "source": [
    "RMSE = np.sqrt(np.mean(((predictions - y_test)**2))) #Error cuadrático medio\n",
    "SSR = sum((predictions-np.mean(y_test))**2) #Suma de las diferencias cuadradas (SSR)\n",
    "SSE = sum((predictions-y_test)**2)  #Error de suma de cuadrados (SSE)\n",
    "SST = sum(((y_test-np.mean(y_test))**2)) #Suma de cuadrados totales (SST)\n",
    "R2 = SSR/SST "
   ]
  },
  {
   "cell_type": "code",
   "execution_count": 51,
   "id": "3d3158d6",
   "metadata": {
    "scrolled": true
   },
   "outputs": [
    {
     "name": "stdout",
     "output_type": "stream",
     "text": [
      "Los errores en las predicciones obtenidos son: RMSE = 235.97 SSR = 2838104576.00, SSE = 107247487.02, SST = 2529704251.28, R2 = 1.12\n"
     ]
    }
   ],
   "source": [
    "print(\"Los errores en las predicciones obtenidos son: RMSE = %.2f SSR = %.2f, SSE = %.2f, SST = %.2f, R2 = %.2f\" %(RMSE, SSR, SSE, SST, R2))  "
   ]
  },
  {
   "cell_type": "markdown",
   "id": "489850e8",
   "metadata": {},
   "source": [
    "### ✅ 7) Comparar predicciones con datos de prueba📝"
   ]
  },
  {
   "cell_type": "markdown",
   "id": "4b670394",
   "metadata": {},
   "source": [
    "Para esta etapa, y dado que el resultado que estamos buscando es dicreto, podemos hacer uso de las **métricas de sklearn para clasificación**."
   ]
  },
  {
   "cell_type": "code",
   "execution_count": 52,
   "id": "d2dfe283",
   "metadata": {},
   "outputs": [],
   "source": [
    "from sklearn.metrics import classification_report\n",
    "from sklearn import metrics"
   ]
  },
  {
   "cell_type": "markdown",
   "id": "aed208bd",
   "metadata": {},
   "source": [
    "#### 7.1 Realizamos plot de predicción contínua"
   ]
  },
  {
   "cell_type": "code",
   "execution_count": 53,
   "id": "bffd5fe5",
   "metadata": {},
   "outputs": [],
   "source": [
    "data = train1_cleaned_df.copy(deep=True)"
   ]
  },
  {
   "cell_type": "code",
   "execution_count": 54,
   "id": "2b207990",
   "metadata": {
    "scrolled": false
   },
   "outputs": [
    {
     "data": {
      "text/plain": [
       "<matplotlib.legend.Legend at 0x1f872995250>"
      ]
     },
     "execution_count": 54,
     "metadata": {},
     "output_type": "execute_result"
    },
    {
     "data": {
      "image/png": "[encoded data removed]",
      "text/plain": [
       "<Figure size 1280x720 with 1 Axes>"
      ]
     },
     "metadata": {
      "needs_background": "light"
     },
     "output_type": "display_data"
    }
   ],
   "source": [
    "train = data.iloc[:training_data_len,:]\n",
    "valid = data.iloc[training_data_len:,:]\n",
    "%matplotlib inline \n",
    "valid['Predictions'] = predictions\n",
    "\n",
    "plt.figure(figsize=(16, 9), dpi=80)    \n",
    "plt.title('Model')\n",
    "plt.xlabel('Date')\n",
    "plt.ylabel('Close')\n",
    "plt.plot(train['Close'])\n",
    "plt.plot(valid[['Close', 'Predictions']])\n",
    "plt.legend(['Train', 'Val', 'Predictions'], loc='lower right')\n"
   ]
  },
  {
   "cell_type": "markdown",
   "id": "c9f68306",
   "metadata": {},
   "source": [
    "#### 7.2 Discretizamos la medición contínua (alza o baja)"
   ]
  },
  {
   "cell_type": "code",
   "execution_count": 55,
   "id": "758ce164",
   "metadata": {},
   "outputs": [],
   "source": [
    "valid['Target_pred'] = np.where((valid[\"Predictions\"]>valid[\"Close\"]), 1, 0)"
   ]
  },
  {
   "cell_type": "code",
   "execution_count": 56,
   "id": "791569c1",
   "metadata": {},
   "outputs": [
    {
     "data": {
      "text/html": [
       "<div>\n",
       "<style scoped>\n",
       "    .dataframe tbody tr th:only-of-type {\n",
       "        vertical-align: middle;\n",
       "    }\n",
       "\n",
       "    .dataframe tbody tr th {\n",
       "        vertical-align: top;\n",
       "    }\n",
       "\n",
       "    .dataframe thead th {\n",
       "        text-align: right;\n",
       "    }\n",
       "</style>\n",
       "<table border=\"1\" class=\"dataframe\">\n",
       "  <thead>\n",
       "    <tr style=\"text-align: right;\">\n",
       "      <th></th>\n",
       "      <th>Date</th>\n",
       "      <th>Open</th>\n",
       "      <th>High</th>\n",
       "      <th>Low</th>\n",
       "      <th>Close</th>\n",
       "      <th>Adj Close</th>\n",
       "      <th>Volume</th>\n",
       "      <th>Target</th>\n",
       "      <th>Predictions</th>\n",
       "      <th>Target_pred</th>\n",
       "    </tr>\n",
       "  </thead>\n",
       "  <tbody>\n",
       "    <tr>\n",
       "      <th>4626</th>\n",
       "      <td>2011-11-11</td>\n",
       "      <td>8301.700195</td>\n",
       "      <td>8580.099609</td>\n",
       "      <td>8263.200195</td>\n",
       "      <td>8556.099609</td>\n",
       "      <td>8556.090820</td>\n",
       "      <td>192929000.0</td>\n",
       "      <td>0</td>\n",
       "      <td>8539.807617</td>\n",
       "      <td>0</td>\n",
       "    </tr>\n",
       "    <tr>\n",
       "      <th>4627</th>\n",
       "      <td>2011-11-14</td>\n",
       "      <td>8615.799805</td>\n",
       "      <td>8616.900391</td>\n",
       "      <td>8341.500000</td>\n",
       "      <td>8372.200195</td>\n",
       "      <td>8372.191406</td>\n",
       "      <td>154797000.0</td>\n",
       "      <td>0</td>\n",
       "      <td>8554.090820</td>\n",
       "      <td>1</td>\n",
       "    </tr>\n",
       "    <tr>\n",
       "      <th>4628</th>\n",
       "      <td>2011-11-15</td>\n",
       "      <td>8316.700195</td>\n",
       "      <td>8333.200195</td>\n",
       "      <td>8191.700195</td>\n",
       "      <td>8237.599609</td>\n",
       "      <td>8237.590820</td>\n",
       "      <td>197888000.0</td>\n",
       "      <td>1</td>\n",
       "      <td>8548.769531</td>\n",
       "      <td>1</td>\n",
       "    </tr>\n",
       "    <tr>\n",
       "      <th>4629</th>\n",
       "      <td>2011-11-16</td>\n",
       "      <td>8213.400391</td>\n",
       "      <td>8415.700195</td>\n",
       "      <td>8213.299805</td>\n",
       "      <td>8304.099609</td>\n",
       "      <td>8304.090820</td>\n",
       "      <td>173684000.0</td>\n",
       "      <td>0</td>\n",
       "      <td>8504.437500</td>\n",
       "      <td>1</td>\n",
       "    </tr>\n",
       "    <tr>\n",
       "      <th>4630</th>\n",
       "      <td>2011-11-17</td>\n",
       "      <td>8272.400391</td>\n",
       "      <td>8335.900391</td>\n",
       "      <td>8200.299805</td>\n",
       "      <td>8270.599609</td>\n",
       "      <td>8270.590820</td>\n",
       "      <td>190560000.0</td>\n",
       "      <td>0</td>\n",
       "      <td>8472.457031</td>\n",
       "      <td>1</td>\n",
       "    </tr>\n",
       "    <tr>\n",
       "      <th>...</th>\n",
       "      <td>...</td>\n",
       "      <td>...</td>\n",
       "      <td>...</td>\n",
       "      <td>...</td>\n",
       "      <td>...</td>\n",
       "      <td>...</td>\n",
       "      <td>...</td>\n",
       "      <td>...</td>\n",
       "      <td>...</td>\n",
       "      <td>...</td>\n",
       "    </tr>\n",
       "    <tr>\n",
       "      <th>6549</th>\n",
       "      <td>2019-05-24</td>\n",
       "      <td>9150.299805</td>\n",
       "      <td>9211.099609</td>\n",
       "      <td>9141.400391</td>\n",
       "      <td>9174.599609</td>\n",
       "      <td>9174.599609</td>\n",
       "      <td>121673100.0</td>\n",
       "      <td>0</td>\n",
       "      <td>9378.382812</td>\n",
       "      <td>1</td>\n",
       "    </tr>\n",
       "    <tr>\n",
       "      <th>6550</th>\n",
       "      <td>2019-05-27</td>\n",
       "      <td>9225.900391</td>\n",
       "      <td>9294.599609</td>\n",
       "      <td>9204.700195</td>\n",
       "      <td>9216.400391</td>\n",
       "      <td>9216.400391</td>\n",
       "      <td>60178000.0</td>\n",
       "      <td>0</td>\n",
       "      <td>9353.162109</td>\n",
       "      <td>1</td>\n",
       "    </tr>\n",
       "    <tr>\n",
       "      <th>6551</th>\n",
       "      <td>2019-05-28</td>\n",
       "      <td>9220.400391</td>\n",
       "      <td>9224.900391</td>\n",
       "      <td>9132.900391</td>\n",
       "      <td>9191.799805</td>\n",
       "      <td>9191.799805</td>\n",
       "      <td>218900800.0</td>\n",
       "      <td>0</td>\n",
       "      <td>9348.588867</td>\n",
       "      <td>1</td>\n",
       "    </tr>\n",
       "    <tr>\n",
       "      <th>6552</th>\n",
       "      <td>2019-05-29</td>\n",
       "      <td>9113.200195</td>\n",
       "      <td>9116.700195</td>\n",
       "      <td>9035.099609</td>\n",
       "      <td>9080.500000</td>\n",
       "      <td>9080.500000</td>\n",
       "      <td>148987100.0</td>\n",
       "      <td>0</td>\n",
       "      <td>9346.252930</td>\n",
       "      <td>1</td>\n",
       "    </tr>\n",
       "    <tr>\n",
       "      <th>6553</th>\n",
       "      <td>2019-05-30</td>\n",
       "      <td>9120.799805</td>\n",
       "      <td>9175.200195</td>\n",
       "      <td>9114.099609</td>\n",
       "      <td>9157.799805</td>\n",
       "      <td>9157.799805</td>\n",
       "      <td>101389200.0</td>\n",
       "      <td>0</td>\n",
       "      <td>9316.211914</td>\n",
       "      <td>1</td>\n",
       "    </tr>\n",
       "  </tbody>\n",
       "</table>\n",
       "<p>1926 rows × 10 columns</p>\n",
       "</div>"
      ],
      "text/plain": [
       "            Date         Open         High          Low        Close  \\\n",
       "4626  2011-11-11  8301.700195  8580.099609  8263.200195  8556.099609   \n",
       "4627  2011-11-14  8615.799805  8616.900391  8341.500000  8372.200195   \n",
       "4628  2011-11-15  8316.700195  8333.200195  8191.700195  8237.599609   \n",
       "4629  2011-11-16  8213.400391  8415.700195  8213.299805  8304.099609   \n",
       "4630  2011-11-17  8272.400391  8335.900391  8200.299805  8270.599609   \n",
       "...          ...          ...          ...          ...          ...   \n",
       "6549  2019-05-24  9150.299805  9211.099609  9141.400391  9174.599609   \n",
       "6550  2019-05-27  9225.900391  9294.599609  9204.700195  9216.400391   \n",
       "6551  2019-05-28  9220.400391  9224.900391  9132.900391  9191.799805   \n",
       "6552  2019-05-29  9113.200195  9116.700195  9035.099609  9080.500000   \n",
       "6553  2019-05-30  9120.799805  9175.200195  9114.099609  9157.799805   \n",
       "\n",
       "        Adj Close       Volume  Target  Predictions  Target_pred  \n",
       "4626  8556.090820  192929000.0       0  8539.807617            0  \n",
       "4627  8372.191406  154797000.0       0  8554.090820            1  \n",
       "4628  8237.590820  197888000.0       1  8548.769531            1  \n",
       "4629  8304.090820  173684000.0       0  8504.437500            1  \n",
       "4630  8270.590820  190560000.0       0  8472.457031            1  \n",
       "...           ...          ...     ...          ...          ...  \n",
       "6549  9174.599609  121673100.0       0  9378.382812            1  \n",
       "6550  9216.400391   60178000.0       0  9353.162109            1  \n",
       "6551  9191.799805  218900800.0       0  9348.588867            1  \n",
       "6552  9080.500000  148987100.0       0  9346.252930            1  \n",
       "6553  9157.799805  101389200.0       0  9316.211914            1  \n",
       "\n",
       "[1926 rows x 10 columns]"
      ]
     },
     "execution_count": 56,
     "metadata": {},
     "output_type": "execute_result"
    }
   ],
   "source": [
    "valid"
   ]
  },
  {
   "cell_type": "code",
   "execution_count": 57,
   "id": "32364082",
   "metadata": {},
   "outputs": [],
   "source": [
    "compare_df = pd.concat([valid['Target'], valid['Target_pred']], axis = 1)"
   ]
  },
  {
   "cell_type": "code",
   "execution_count": 58,
   "id": "c34b014f",
   "metadata": {
    "scrolled": true
   },
   "outputs": [
    {
     "data": {
      "text/plain": [
       "array([<AxesSubplot:ylabel='Target'>, <AxesSubplot:ylabel='Target_pred'>],\n",
       "      dtype=object)"
      ]
     },
     "execution_count": 58,
     "metadata": {},
     "output_type": "execute_result"
    },
    {
     "data": {
      "image/png": "[encoded data removed]",
      "text/plain": [
       "<Figure size 432x288 with 2 Axes>"
      ]
     },
     "metadata": {},
     "output_type": "display_data"
    }
   ],
   "source": [
    "compare_df.apply(pd.value_counts).plot.pie(subplots=True)"
   ]
  },
  {
   "cell_type": "code",
   "execution_count": 59,
   "id": "1a34d5fd",
   "metadata": {},
   "outputs": [
    {
     "name": "stdout",
     "output_type": "stream",
     "text": [
      "              precision    recall  f1-score   support\n",
      "\n",
      "      Reales       0.40      0.13      0.20       907\n",
      "Predicciones       0.52      0.83      0.64      1019\n",
      "\n",
      "    accuracy                           0.50      1926\n",
      "   macro avg       0.46      0.48      0.42      1926\n",
      "weighted avg       0.46      0.50      0.43      1926\n",
      "\n"
     ]
    }
   ],
   "source": [
    "print(classification_report(valid['Target'], valid['Target_pred'], target_names=[\"Reales\", \"Predicciones\"]))"
   ]
  },
  {
   "cell_type": "markdown",
   "id": "13978c07",
   "metadata": {},
   "source": [
    "Vemos que la presición final del modelo para predicciones **binarias** es de un 52% lo cual tiene sentido, pues a esto se le debe sumar el \"sentimiento subjetivo\" de los usuarios de twitter."
   ]
  },
  {
   "cell_type": "markdown",
   "id": "98d0a03a",
   "metadata": {},
   "source": [
    "### ✅ 8) Realizar predicciones finales con (test_x.csv) 🔨"
   ]
  },
  {
   "cell_type": "markdown",
   "id": "60a732d7",
   "metadata": {},
   "source": [
    "#### 8.1 Importamos dataset a predecir y analizamos si está todo OK"
   ]
  },
  {
   "cell_type": "code",
   "execution_count": 60,
   "id": "31d0f229",
   "metadata": {},
   "outputs": [],
   "source": [
    "#1. Con pandas, importamos el dataset 1\n",
    "test_x_df = pd.read_csv(\"test_x.csv\", sep=',')"
   ]
  },
  {
   "cell_type": "code",
   "execution_count": 61,
   "id": "ffd25ce7",
   "metadata": {
    "scrolled": true
   },
   "outputs": [
    {
     "data": {
      "text/html": [
       "<div>\n",
       "<style scoped>\n",
       "    .dataframe tbody tr th:only-of-type {\n",
       "        vertical-align: middle;\n",
       "    }\n",
       "\n",
       "    .dataframe tbody tr th {\n",
       "        vertical-align: top;\n",
       "    }\n",
       "\n",
       "    .dataframe thead th {\n",
       "        text-align: right;\n",
       "    }\n",
       "</style>\n",
       "<table border=\"1\" class=\"dataframe\">\n",
       "  <thead>\n",
       "    <tr style=\"text-align: right;\">\n",
       "      <th></th>\n",
       "      <th>test_index</th>\n",
       "      <th>Date</th>\n",
       "      <th>Open</th>\n",
       "      <th>High</th>\n",
       "      <th>Low</th>\n",
       "      <th>Close</th>\n",
       "      <th>Adj Close</th>\n",
       "      <th>Volume</th>\n",
       "    </tr>\n",
       "  </thead>\n",
       "  <tbody>\n",
       "    <tr>\n",
       "      <th>0</th>\n",
       "      <td>6557</td>\n",
       "      <td>2019-06-05</td>\n",
       "      <td>9136.799805</td>\n",
       "      <td>9173.400391</td>\n",
       "      <td>9095.000000</td>\n",
       "      <td>9150.500000</td>\n",
       "      <td>9150.500000</td>\n",
       "      <td>158753000.0</td>\n",
       "    </tr>\n",
       "    <tr>\n",
       "      <th>1</th>\n",
       "      <td>6558</td>\n",
       "      <td>2019-06-06</td>\n",
       "      <td>9169.200195</td>\n",
       "      <td>9246.200195</td>\n",
       "      <td>9136.700195</td>\n",
       "      <td>9169.200195</td>\n",
       "      <td>9169.200195</td>\n",
       "      <td>212720900.0</td>\n",
       "    </tr>\n",
       "    <tr>\n",
       "      <th>2</th>\n",
       "      <td>6559</td>\n",
       "      <td>2019-06-07</td>\n",
       "      <td>9186.700195</td>\n",
       "      <td>9261.400391</td>\n",
       "      <td>9185.700195</td>\n",
       "      <td>9236.099609</td>\n",
       "      <td>9236.099609</td>\n",
       "      <td>150664700.0</td>\n",
       "    </tr>\n",
       "    <tr>\n",
       "      <th>3</th>\n",
       "      <td>6560</td>\n",
       "      <td>2019-06-10</td>\n",
       "      <td>9284.200195</td>\n",
       "      <td>9302.200195</td>\n",
       "      <td>9248.099609</td>\n",
       "      <td>9294.099609</td>\n",
       "      <td>9294.099609</td>\n",
       "      <td>102323700.0</td>\n",
       "    </tr>\n",
       "    <tr>\n",
       "      <th>4</th>\n",
       "      <td>6561</td>\n",
       "      <td>2019-06-11</td>\n",
       "      <td>9288.599609</td>\n",
       "      <td>9332.500000</td>\n",
       "      <td>9273.400391</td>\n",
       "      <td>9282.099609</td>\n",
       "      <td>9282.099609</td>\n",
       "      <td>144701200.0</td>\n",
       "    </tr>\n",
       "  </tbody>\n",
       "</table>\n",
       "</div>"
      ],
      "text/plain": [
       "   test_index        Date         Open         High          Low        Close  \\\n",
       "0        6557  2019-06-05  9136.799805  9173.400391  9095.000000  9150.500000   \n",
       "1        6558  2019-06-06  9169.200195  9246.200195  9136.700195  9169.200195   \n",
       "2        6559  2019-06-07  9186.700195  9261.400391  9185.700195  9236.099609   \n",
       "3        6560  2019-06-10  9284.200195  9302.200195  9248.099609  9294.099609   \n",
       "4        6561  2019-06-11  9288.599609  9332.500000  9273.400391  9282.099609   \n",
       "\n",
       "     Adj Close       Volume  \n",
       "0  9150.500000  158753000.0  \n",
       "1  9169.200195  212720900.0  \n",
       "2  9236.099609  150664700.0  \n",
       "3  9294.099609  102323700.0  \n",
       "4  9282.099609  144701200.0  "
      ]
     },
     "execution_count": 61,
     "metadata": {},
     "output_type": "execute_result"
    }
   ],
   "source": [
    "#2.Observamos encabezado\n",
    "test_x_df.head()"
   ]
  },
  {
   "cell_type": "code",
   "execution_count": 62,
   "id": "cc6a2c7d",
   "metadata": {},
   "outputs": [
    {
     "data": {
      "text/html": [
       "<div>\n",
       "<style scoped>\n",
       "    .dataframe tbody tr th:only-of-type {\n",
       "        vertical-align: middle;\n",
       "    }\n",
       "\n",
       "    .dataframe tbody tr th {\n",
       "        vertical-align: top;\n",
       "    }\n",
       "\n",
       "    .dataframe thead th {\n",
       "        text-align: right;\n",
       "    }\n",
       "</style>\n",
       "<table border=\"1\" class=\"dataframe\">\n",
       "  <thead>\n",
       "    <tr style=\"text-align: right;\">\n",
       "      <th></th>\n",
       "      <th>test_index</th>\n",
       "      <th>Date</th>\n",
       "      <th>Open</th>\n",
       "      <th>High</th>\n",
       "      <th>Low</th>\n",
       "      <th>Close</th>\n",
       "      <th>Adj Close</th>\n",
       "      <th>Volume</th>\n",
       "    </tr>\n",
       "  </thead>\n",
       "  <tbody>\n",
       "    <tr>\n",
       "      <th>721</th>\n",
       "      <td>7278</td>\n",
       "      <td>2022-03-25</td>\n",
       "      <td>8314.099609</td>\n",
       "      <td>8363.200195</td>\n",
       "      <td>8286.500000</td>\n",
       "      <td>8330.599609</td>\n",
       "      <td>8330.599609</td>\n",
       "      <td>156189000.0</td>\n",
       "    </tr>\n",
       "    <tr>\n",
       "      <th>722</th>\n",
       "      <td>7279</td>\n",
       "      <td>2022-03-28</td>\n",
       "      <td>8354.400391</td>\n",
       "      <td>8485.700195</td>\n",
       "      <td>8354.400391</td>\n",
       "      <td>8365.599609</td>\n",
       "      <td>8365.599609</td>\n",
       "      <td>167961800.0</td>\n",
       "    </tr>\n",
       "    <tr>\n",
       "      <th>723</th>\n",
       "      <td>7280</td>\n",
       "      <td>2022-03-29</td>\n",
       "      <td>8451.000000</td>\n",
       "      <td>8621.000000</td>\n",
       "      <td>8419.700195</td>\n",
       "      <td>8614.599609</td>\n",
       "      <td>8614.599609</td>\n",
       "      <td>257812200.0</td>\n",
       "    </tr>\n",
       "    <tr>\n",
       "      <th>724</th>\n",
       "      <td>7281</td>\n",
       "      <td>2022-03-30</td>\n",
       "      <td>8583.299805</td>\n",
       "      <td>8597.400391</td>\n",
       "      <td>8508.900391</td>\n",
       "      <td>8550.599609</td>\n",
       "      <td>8550.599609</td>\n",
       "      <td>185389000.0</td>\n",
       "    </tr>\n",
       "    <tr>\n",
       "      <th>725</th>\n",
       "      <td>7282</td>\n",
       "      <td>2022-03-31</td>\n",
       "      <td>8562.599609</td>\n",
       "      <td>8588.299805</td>\n",
       "      <td>8445.099609</td>\n",
       "      <td>8445.099609</td>\n",
       "      <td>8445.099609</td>\n",
       "      <td>220117500.0</td>\n",
       "    </tr>\n",
       "  </tbody>\n",
       "</table>\n",
       "</div>"
      ],
      "text/plain": [
       "     test_index        Date         Open         High          Low  \\\n",
       "721        7278  2022-03-25  8314.099609  8363.200195  8286.500000   \n",
       "722        7279  2022-03-28  8354.400391  8485.700195  8354.400391   \n",
       "723        7280  2022-03-29  8451.000000  8621.000000  8419.700195   \n",
       "724        7281  2022-03-30  8583.299805  8597.400391  8508.900391   \n",
       "725        7282  2022-03-31  8562.599609  8588.299805  8445.099609   \n",
       "\n",
       "           Close    Adj Close       Volume  \n",
       "721  8330.599609  8330.599609  156189000.0  \n",
       "722  8365.599609  8365.599609  167961800.0  \n",
       "723  8614.599609  8614.599609  257812200.0  \n",
       "724  8550.599609  8550.599609  185389000.0  \n",
       "725  8445.099609  8445.099609  220117500.0  "
      ]
     },
     "execution_count": 62,
     "metadata": {},
     "output_type": "execute_result"
    }
   ],
   "source": [
    "#3.Observamos final del dataset\n",
    "test_x_df.tail()"
   ]
  },
  {
   "cell_type": "code",
   "execution_count": 63,
   "id": "82e34ac1",
   "metadata": {},
   "outputs": [
    {
     "name": "stdout",
     "output_type": "stream",
     "text": [
      "<class 'pandas.core.frame.DataFrame'>\n",
      "RangeIndex: 726 entries, 0 to 725\n",
      "Data columns (total 8 columns):\n",
      " #   Column      Non-Null Count  Dtype  \n",
      "---  ------      --------------  -----  \n",
      " 0   test_index  726 non-null    int64  \n",
      " 1   Date        726 non-null    object \n",
      " 2   Open        726 non-null    float64\n",
      " 3   High        726 non-null    float64\n",
      " 4   Low         726 non-null    float64\n",
      " 5   Close       726 non-null    float64\n",
      " 6   Adj Close   726 non-null    float64\n",
      " 7   Volume      726 non-null    float64\n",
      "dtypes: float64(6), int64(1), object(1)\n",
      "memory usage: 45.5+ KB\n"
     ]
    }
   ],
   "source": [
    "#4.Observamos la información de las variables de cada columna.\n",
    "test_x_df.info()"
   ]
  },
  {
   "cell_type": "code",
   "execution_count": 64,
   "id": "d834c03a",
   "metadata": {
    "scrolled": true
   },
   "outputs": [
    {
     "data": {
      "text/html": [
       "<div>\n",
       "<style scoped>\n",
       "    .dataframe tbody tr th:only-of-type {\n",
       "        vertical-align: middle;\n",
       "    }\n",
       "\n",
       "    .dataframe tbody tr th {\n",
       "        vertical-align: top;\n",
       "    }\n",
       "\n",
       "    .dataframe thead th {\n",
       "        text-align: right;\n",
       "    }\n",
       "</style>\n",
       "<table border=\"1\" class=\"dataframe\">\n",
       "  <thead>\n",
       "    <tr style=\"text-align: right;\">\n",
       "      <th></th>\n",
       "      <th>test_index</th>\n",
       "      <th>Open</th>\n",
       "      <th>High</th>\n",
       "      <th>Low</th>\n",
       "      <th>Close</th>\n",
       "      <th>Adj Close</th>\n",
       "      <th>Volume</th>\n",
       "    </tr>\n",
       "  </thead>\n",
       "  <tbody>\n",
       "    <tr>\n",
       "      <th>count</th>\n",
       "      <td>726.000000</td>\n",
       "      <td>726.000000</td>\n",
       "      <td>726.000000</td>\n",
       "      <td>726.000000</td>\n",
       "      <td>726.000000</td>\n",
       "      <td>726.000000</td>\n",
       "      <td>7.260000e+02</td>\n",
       "    </tr>\n",
       "    <tr>\n",
       "      <th>mean</th>\n",
       "      <td>6919.500000</td>\n",
       "      <td>8399.936418</td>\n",
       "      <td>8458.035202</td>\n",
       "      <td>8332.158471</td>\n",
       "      <td>8396.085609</td>\n",
       "      <td>8396.085609</td>\n",
       "      <td>2.086387e+08</td>\n",
       "    </tr>\n",
       "    <tr>\n",
       "      <th>std</th>\n",
       "      <td>209.722436</td>\n",
       "      <td>899.325142</td>\n",
       "      <td>886.671165</td>\n",
       "      <td>916.904022</td>\n",
       "      <td>903.320144</td>\n",
       "      <td>903.320144</td>\n",
       "      <td>1.015796e+08</td>\n",
       "    </tr>\n",
       "    <tr>\n",
       "      <th>min</th>\n",
       "      <td>6557.000000</td>\n",
       "      <td>6223.700195</td>\n",
       "      <td>6362.500000</td>\n",
       "      <td>5814.500000</td>\n",
       "      <td>6107.200195</td>\n",
       "      <td>6107.200195</td>\n",
       "      <td>3.543620e+07</td>\n",
       "    </tr>\n",
       "    <tr>\n",
       "      <th>25%</th>\n",
       "      <td>6738.250000</td>\n",
       "      <td>7848.675049</td>\n",
       "      <td>7963.874878</td>\n",
       "      <td>7762.924805</td>\n",
       "      <td>7857.675171</td>\n",
       "      <td>7857.675171</td>\n",
       "      <td>1.472686e+08</td>\n",
       "    </tr>\n",
       "    <tr>\n",
       "      <th>50%</th>\n",
       "      <td>6919.500000</td>\n",
       "      <td>8673.950195</td>\n",
       "      <td>8725.250000</td>\n",
       "      <td>8609.750000</td>\n",
       "      <td>8672.399902</td>\n",
       "      <td>8672.399902</td>\n",
       "      <td>1.827458e+08</td>\n",
       "    </tr>\n",
       "    <tr>\n",
       "      <th>75%</th>\n",
       "      <td>7100.750000</td>\n",
       "      <td>9077.599609</td>\n",
       "      <td>9124.224854</td>\n",
       "      <td>9001.125244</td>\n",
       "      <td>9077.375244</td>\n",
       "      <td>9077.375244</td>\n",
       "      <td>2.340954e+08</td>\n",
       "    </tr>\n",
       "    <tr>\n",
       "      <th>max</th>\n",
       "      <td>7282.000000</td>\n",
       "      <td>10048.700195</td>\n",
       "      <td>10100.200195</td>\n",
       "      <td>10020.700195</td>\n",
       "      <td>10083.599609</td>\n",
       "      <td>10083.599609</td>\n",
       "      <td>9.752120e+08</td>\n",
       "    </tr>\n",
       "  </tbody>\n",
       "</table>\n",
       "</div>"
      ],
      "text/plain": [
       "        test_index          Open          High           Low         Close  \\\n",
       "count   726.000000    726.000000    726.000000    726.000000    726.000000   \n",
       "mean   6919.500000   8399.936418   8458.035202   8332.158471   8396.085609   \n",
       "std     209.722436    899.325142    886.671165    916.904022    903.320144   \n",
       "min    6557.000000   6223.700195   6362.500000   5814.500000   6107.200195   \n",
       "25%    6738.250000   7848.675049   7963.874878   7762.924805   7857.675171   \n",
       "50%    6919.500000   8673.950195   8725.250000   8609.750000   8672.399902   \n",
       "75%    7100.750000   9077.599609   9124.224854   9001.125244   9077.375244   \n",
       "max    7282.000000  10048.700195  10100.200195  10020.700195  10083.599609   \n",
       "\n",
       "          Adj Close        Volume  \n",
       "count    726.000000  7.260000e+02  \n",
       "mean    8396.085609  2.086387e+08  \n",
       "std      903.320144  1.015796e+08  \n",
       "min     6107.200195  3.543620e+07  \n",
       "25%     7857.675171  1.472686e+08  \n",
       "50%     8672.399902  1.827458e+08  \n",
       "75%     9077.375244  2.340954e+08  \n",
       "max    10083.599609  9.752120e+08  "
      ]
     },
     "execution_count": 64,
     "metadata": {},
     "output_type": "execute_result"
    }
   ],
   "source": [
    "#5.Describimos el dataset de ser posible\n",
    "test_x_df.describe()"
   ]
  },
  {
   "cell_type": "code",
   "execution_count": 65,
   "id": "c444cd97",
   "metadata": {
    "scrolled": true
   },
   "outputs": [
    {
     "data": {
      "text/plain": [
       "test_index    0\n",
       "Date          0\n",
       "Open          0\n",
       "High          0\n",
       "Low           0\n",
       "Close         0\n",
       "Adj Close     0\n",
       "Volume        0\n",
       "dtype: int64"
      ]
     },
     "execution_count": 65,
     "metadata": {},
     "output_type": "execute_result"
    }
   ],
   "source": [
    "#6. Sumamos todas aquellas variables nulas\n",
    "test_x_df.isnull().sum()"
   ]
  },
  {
   "cell_type": "code",
   "execution_count": 66,
   "id": "83329168",
   "metadata": {},
   "outputs": [],
   "source": [
    "# 7. Filtramos los datos de cierre de mercado\n",
    "close_data = test_x_df.filter(['Close'])"
   ]
  },
  {
   "cell_type": "code",
   "execution_count": 67,
   "id": "cfa8434d",
   "metadata": {},
   "outputs": [],
   "source": [
    "# 8. Convertimos los datos a array para una evaluación más rápida\n",
    "dataset = close_data.values"
   ]
  },
  {
   "cell_type": "code",
   "execution_count": 68,
   "id": "f40f8768",
   "metadata": {},
   "outputs": [],
   "source": [
    "# 9. Normalizamos los datos para que todos los valores estén entre 0 y 1\n",
    "scaled_data = scaler.fit_transform(dataset)"
   ]
  },
  {
   "cell_type": "markdown",
   "id": "6e536cf3",
   "metadata": {},
   "source": [
    "#### 8.2 Adaptamos los datos y realizamos predicciones"
   ]
  },
  {
   "cell_type": "code",
   "execution_count": 69,
   "id": "27f9f953",
   "metadata": {},
   "outputs": [],
   "source": [
    "# 1. Filtramos los últimos 60 días (la predicción ya está realizada con el data set entero)\n",
    "x_test = []\n",
    "for i in range(60,len(scaled_data)):\n",
    "    x_test.append(scaled_data[i-60:i,0])"
   ]
  },
  {
   "cell_type": "code",
   "execution_count": 70,
   "id": "93b6119e",
   "metadata": {},
   "outputs": [],
   "source": [
    "# 2.  Convertir los valores en arrays para facilitar el cálculo\n",
    "x_test = np.array(x_test)\n",
    "x_test = np.reshape(x_test, (x_test.shape[0],x_test.shape[1],1))"
   ]
  },
  {
   "cell_type": "code",
   "execution_count": 71,
   "id": "d715f0a6",
   "metadata": {},
   "outputs": [
    {
     "name": "stdout",
     "output_type": "stream",
     "text": [
      "21/21 [==============================] - 0s 8ms/step\n"
     ]
    }
   ],
   "source": [
    "# 3. Realizando predicciones con los t\n",
    "predictions = model.predict(x_test)\n",
    "predictions = scaler.inverse_transform(predictions)"
   ]
  },
  {
   "cell_type": "code",
   "execution_count": 72,
   "id": "973c633c",
   "metadata": {},
   "outputs": [],
   "source": [
    "test_x_cut_df = test_x_df.iloc[len(x_test):,:]#Nos quedamos con los últios 60 días para realizar la predicción final"
   ]
  },
  {
   "cell_type": "code",
   "execution_count": 73,
   "id": "a220f878",
   "metadata": {},
   "outputs": [],
   "source": [
    "test_x_cut_df[\"Predictions\"] = predictions[606:] #Agregamos las predicciones de los últimos 60 días."
   ]
  },
  {
   "cell_type": "markdown",
   "id": "645ca6a7",
   "metadata": {},
   "source": [
    "#### 8.3 A las predicciones le aplicamos el \"Sentimiento de Twitter\" "
   ]
  },
  {
   "cell_type": "code",
   "execution_count": 74,
   "id": "f193a9ca",
   "metadata": {},
   "outputs": [],
   "source": [
    "train_twit_df=train2_twit_sent_df.copy()"
   ]
  },
  {
   "cell_type": "code",
   "execution_count": 75,
   "id": "c72cfe6b",
   "metadata": {},
   "outputs": [],
   "source": [
    "import time #Para hacer las comparaciones de fecha"
   ]
  },
  {
   "cell_type": "code",
   "execution_count": 76,
   "id": "be4b12e8",
   "metadata": {
    "scrolled": false
   },
   "outputs": [],
   "source": [
    "Sentiment = []\n",
    "index = 0\n",
    "for i in test_x_cut_df[\"Date\"]:\n",
    "    count = 0 #Reseteamos el conteo de días que se repite el mismo tweet\n",
    "    suma = 0  #Reseteamos la suma \n",
    "    mean = 0  #Reseteamos el promedio de esta fecha\n",
    "    index += 1 #incrementamos el indice en uno\n",
    "    for j in train_twit_df[\"Date\"]:#Recorremos todos los sentimientos y buscamos aquellas fechas que coinciden\n",
    "        date1 = time.strptime(i, \"%Y-%m-%d\")\n",
    "        date2 =  j\n",
    "        date1 is date2\n",
    "        count += 1\n",
    "        suma = suma + train_twit_df.iloc[index,1]\n",
    "    mean = suma / count #Calculamos el promedio de sentimientos en el dia que se realizaron los Twitts         \n",
    "    Sentiment.append(mean) #apendizamos el promedio de sentimientos para ese día.\n",
    "\n",
    "    #test_x_cut_df['Sentiment'] = train_twit_df[\"Sentiment\"][j]"
   ]
  },
  {
   "cell_type": "code",
   "execution_count": 77,
   "id": "e0c496c4",
   "metadata": {},
   "outputs": [],
   "source": [
    "test_x_cut_df['Target'] = np.where(((test_x_cut_df[\"Predictions\"])>test_x_cut_df[\"Close\"]), 1, 0)"
   ]
  },
  {
   "cell_type": "code",
   "execution_count": 78,
   "id": "f6742297",
   "metadata": {},
   "outputs": [],
   "source": [
    "#test_x_cut_df['Target'] = test_x_cut_df[\"Target\"]+Sentiment"
   ]
  },
  {
   "cell_type": "code",
   "execution_count": 79,
   "id": "8494d188",
   "metadata": {},
   "outputs": [],
   "source": [
    "test_x_cut_df['Target'] = np.where(((test_x_cut_df[\"Target\"]+Sentiment)>=1), 1, 0) #Cuando hay sentimiento positivo, entonces la predicción será positiva"
   ]
  },
  {
   "cell_type": "markdown",
   "id": "8388e931",
   "metadata": {},
   "source": [
    "### ✅ 9) Presentar resultados🌟"
   ]
  },
  {
   "cell_type": "markdown",
   "id": "f6975e91",
   "metadata": {},
   "source": [
    "#### 9.1 Guardamos los resultados según lo especificado bajo formato csv"
   ]
  },
  {
   "cell_type": "code",
   "execution_count": 80,
   "id": "8d3fc535",
   "metadata": {},
   "outputs": [],
   "source": [
    "predictions = pd.concat([test_x_cut_df[\"test_index\"], test_x_cut_df[\"Target\"]], axis = 1)"
   ]
  },
  {
   "cell_type": "code",
   "execution_count": 81,
   "id": "62534f9e",
   "metadata": {},
   "outputs": [],
   "source": [
    "predictions.to_csv(\"predictions.csv\", index=False)"
   ]
  },
  {
   "cell_type": "code",
   "execution_count": 82,
   "id": "bb905810",
   "metadata": {},
   "outputs": [],
   "source": [
    "predictions_observ = pd.read_csv(\"predictions.csv\", sep=',')#Observamos que el resultado se halla guardado correctamente"
   ]
  },
  {
   "cell_type": "code",
   "execution_count": 83,
   "id": "666e2a8d",
   "metadata": {},
   "outputs": [
    {
     "data": {
      "text/html": [
       "<div>\n",
       "<style scoped>\n",
       "    .dataframe tbody tr th:only-of-type {\n",
       "        vertical-align: middle;\n",
       "    }\n",
       "\n",
       "    .dataframe tbody tr th {\n",
       "        vertical-align: top;\n",
       "    }\n",
       "\n",
       "    .dataframe thead th {\n",
       "        text-align: right;\n",
       "    }\n",
       "</style>\n",
       "<table border=\"1\" class=\"dataframe\">\n",
       "  <thead>\n",
       "    <tr style=\"text-align: right;\">\n",
       "      <th></th>\n",
       "      <th>test_index</th>\n",
       "      <th>Target</th>\n",
       "    </tr>\n",
       "  </thead>\n",
       "  <tbody>\n",
       "    <tr>\n",
       "      <th>0</th>\n",
       "      <td>7223</td>\n",
       "      <td>1</td>\n",
       "    </tr>\n",
       "    <tr>\n",
       "      <th>1</th>\n",
       "      <td>7224</td>\n",
       "      <td>1</td>\n",
       "    </tr>\n",
       "    <tr>\n",
       "      <th>2</th>\n",
       "      <td>7225</td>\n",
       "      <td>1</td>\n",
       "    </tr>\n",
       "    <tr>\n",
       "      <th>3</th>\n",
       "      <td>7226</td>\n",
       "      <td>1</td>\n",
       "    </tr>\n",
       "    <tr>\n",
       "      <th>4</th>\n",
       "      <td>7227</td>\n",
       "      <td>0</td>\n",
       "    </tr>\n",
       "  </tbody>\n",
       "</table>\n",
       "</div>"
      ],
      "text/plain": [
       "   test_index  Target\n",
       "0        7223       1\n",
       "1        7224       1\n",
       "2        7225       1\n",
       "3        7226       1\n",
       "4        7227       0"
      ]
     },
     "execution_count": 83,
     "metadata": {},
     "output_type": "execute_result"
    }
   ],
   "source": [
    "predictions_observ.head() #Datos guardados exitosamente"
   ]
  },
  {
   "cell_type": "markdown",
   "id": "d8d5ab59",
   "metadata": {},
   "source": [
    "#### 9.2 Guardamos los resultados según lo especificado bajo formato json"
   ]
  },
  {
   "cell_type": "code",
   "execution_count": 84,
   "id": "b985c876",
   "metadata": {},
   "outputs": [],
   "source": [
    "predictions_json = predictions.copy() #Realizamos la copia"
   ]
  },
  {
   "cell_type": "code",
   "execution_count": 85,
   "id": "a17e8b01",
   "metadata": {},
   "outputs": [],
   "source": [
    "A = np.array(predictions[\"test_index\"])\n",
    "B = np.array(predictions[\"Target\"])\n",
    "#C = np.concatenate([A, B])\n",
    "C = np.stack([A, B]).reshape(-1)"
   ]
  },
  {
   "cell_type": "code",
   "execution_count": 86,
   "id": "018a9d2d",
   "metadata": {},
   "outputs": [],
   "source": [
    "data = {'test_index': A,\n",
    "        'Target': B\n",
    "        }"
   ]
  },
  {
   "cell_type": "code",
   "execution_count": 87,
   "id": "81dd3bf5",
   "metadata": {},
   "outputs": [],
   "source": [
    "predictions_json = pd.DataFrame(data, columns = ['test_index', 'Target'])"
   ]
  },
  {
   "cell_type": "code",
   "execution_count": 88,
   "id": "a7753133",
   "metadata": {},
   "outputs": [],
   "source": [
    "data = predictions_json.to_json('./predictions.json')"
   ]
  },
  {
   "cell_type": "code",
   "execution_count": 89,
   "id": "73f33b25",
   "metadata": {},
   "outputs": [],
   "source": [
    "df = pd.read_json('predictions.json')"
   ]
  },
  {
   "cell_type": "code",
   "execution_count": 90,
   "id": "2f60daac",
   "metadata": {},
   "outputs": [
    {
     "data": {
      "text/html": [
       "<div>\n",
       "<style scoped>\n",
       "    .dataframe tbody tr th:only-of-type {\n",
       "        vertical-align: middle;\n",
       "    }\n",
       "\n",
       "    .dataframe tbody tr th {\n",
       "        vertical-align: top;\n",
       "    }\n",
       "\n",
       "    .dataframe thead th {\n",
       "        text-align: right;\n",
       "    }\n",
       "</style>\n",
       "<table border=\"1\" class=\"dataframe\">\n",
       "  <thead>\n",
       "    <tr style=\"text-align: right;\">\n",
       "      <th></th>\n",
       "      <th>test_index</th>\n",
       "      <th>Target</th>\n",
       "    </tr>\n",
       "  </thead>\n",
       "  <tbody>\n",
       "    <tr>\n",
       "      <th>0</th>\n",
       "      <td>7223</td>\n",
       "      <td>1</td>\n",
       "    </tr>\n",
       "    <tr>\n",
       "      <th>1</th>\n",
       "      <td>7224</td>\n",
       "      <td>1</td>\n",
       "    </tr>\n",
       "    <tr>\n",
       "      <th>2</th>\n",
       "      <td>7225</td>\n",
       "      <td>1</td>\n",
       "    </tr>\n",
       "    <tr>\n",
       "      <th>3</th>\n",
       "      <td>7226</td>\n",
       "      <td>1</td>\n",
       "    </tr>\n",
       "    <tr>\n",
       "      <th>4</th>\n",
       "      <td>7227</td>\n",
       "      <td>0</td>\n",
       "    </tr>\n",
       "  </tbody>\n",
       "</table>\n",
       "</div>"
      ],
      "text/plain": [
       "   test_index  Target\n",
       "0        7223       1\n",
       "1        7224       1\n",
       "2        7225       1\n",
       "3        7226       1\n",
       "4        7227       0"
      ]
     },
     "execution_count": 90,
     "metadata": {},
     "output_type": "execute_result"
    }
   ],
   "source": [
    "df.head() #Ok el archivo se ha guardado exitosamente"
   ]
  }
 ],
 "metadata": {
  "kernelspec": {
   "display_name": "Python 3 (ipykernel)",
   "language": "python",
   "name": "python3"
  },
  "language_info": {
   "codemirror_mode": {
    "name": "ipython",
    "version": 3
   },
   "file_extension": ".py",
   "mimetype": "text/x-python",
   "name": "python",
   "nbconvert_exporter": "python",
   "pygments_lexer": "ipython3",
   "version": "3.9.7"
  }
 },
 "nbformat": 4,
 "nbformat_minor": 5
}
